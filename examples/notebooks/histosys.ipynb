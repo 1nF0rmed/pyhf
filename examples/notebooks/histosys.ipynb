{
 "cells": [
  {
   "cell_type": "code",
   "execution_count": 79,
   "metadata": {},
   "outputs": [
    {
     "name": "stdout",
     "output_type": "stream",
     "text": [
      "Populating the interactive namespace from numpy and matplotlib\n"
     ]
    },
    {
     "name": "stderr",
     "output_type": "stream",
     "text": [
      "/Users/lukas/Code/histfactory/pyhf/venv/lib/python2.7/site-packages/IPython/core/magics/pylab.py:161: UserWarning: pylab import has clobbered these variables: ['source', 'test']\n",
      "`%matplotlib` prevents importing * from pylab and numpy\n",
      "  \"\\n`%matplotlib` prevents importing * from pylab and numpy\"\n"
     ]
    }
   ],
   "source": [
    "%pylab inline"
   ]
  },
  {
   "cell_type": "code",
   "execution_count": 90,
   "metadata": {},
   "outputs": [],
   "source": [
    "import pyhf\n",
    "reload(pyhf)\n",
    "from pyhf import hfpdf\n",
    "def prep_data(source):\n",
    "    spec = {\n",
    "        'signal': {\n",
    "            'data': source['bindata']['sig'],\n",
    "            'mods': [\n",
    "                {\n",
    "                    'name': 'mu',\n",
    "                    'type': 'normfactor',\n",
    "                    'data': None\n",
    "                }\n",
    "            ]\n",
    "        },\n",
    "        'background': {\n",
    "            'data': source['bindata']['bkg'],\n",
    "            'mods': [\n",
    "                {\n",
    "                    'name': 'bkg_norm',\n",
    "                    'type': 'histosys',\n",
    "                    'data': {\n",
    "                        'lo_hist': source['bindata']['bkgsys_dn'],\n",
    "                        'hi_hist': source['bindata']['bkgsys_up'],\n",
    "                    }\n",
    "                }\n",
    "            ]\n",
    "        }\n",
    "    }\n",
    "    pdf  = hfpdf(spec)\n",
    "    data = source['bindata']['data'] + pdf.auxdata\n",
    "    return data, pdf"
   ]
  },
  {
   "cell_type": "code",
   "execution_count": 91,
   "metadata": {},
   "outputs": [
    {
     "name": "stdout",
     "output_type": "stream",
     "text": [
      "[120.0, 180.0, 0]\n"
     ]
    }
   ],
   "source": [
    "source = {\n",
    "  \"binning\": [2,-0.5,1.5],\n",
    "  \"bindata\": {\n",
    "    \"data\":    [120.0, 180.0],\n",
    "    \"bkg\":     [100.0, 150.0],\n",
    "    \"bkgsys_up\":  [102, 190],\n",
    "    \"bkgsys_dn\":  [98, 100],\n",
    "    \"sig\":     [30.0, 95.0]\n",
    "  }\n",
    "}\n",
    "\n",
    "d,pdf = prep_data(source)\n",
    "init_pars = [0.0,0.0]\n",
    "par_bounds = [[0,10],[-5,5]]\n",
    "\n",
    "print d"
   ]
  },
  {
   "cell_type": "code",
   "execution_count": 92,
   "metadata": {
    "scrolled": false
   },
   "outputs": [
    {
     "data": {
      "text/plain": [
       "{'exp': [0.3111465066837988,\n",
       "  0.42267218014242197,\n",
       "  0.6105043598112219,\n",
       "  0.8773491697915375,\n",
       "  1.2116148902149564],\n",
       " 'obs': 1.1161739895338065}"
      ]
     },
     "execution_count": 92,
     "metadata": {},
     "output_type": "execute_result"
    },
    {
     "data": {
      "image/png": "[encoded data removed]",
      "text/plain": [
       "<matplotlib.figure.Figure at 0x10d711550>"
      ]
     },
     "metadata": {},
     "output_type": "display_data"
    }
   ],
   "source": [
    "def plot_results(testmus,cls_obs, cls_exp, test_size = 0.05):\n",
    "    plt.plot(mutests,cls_obs, c = 'k')\n",
    "    for i,c in zip(range(5),['grey','grey','grey','grey','grey']):\n",
    "        plt.plot(mutests,cls_exp[i], c = c)\n",
    "    plt.plot(testmus,[test_size]*len(testmus), c = 'r')\n",
    "    plt.ylim(0,1)\n",
    "\n",
    "def CLsOnePoint(muTest,d,pdf, init_pars,par_bounds):\n",
    "    clsobs, cls_exp = pyhf.runOnePoint(muTest, d,pdf,init_pars,par_bounds)[-2:]\n",
    "    return 1./clsobs, [1./x for x in cls_exp]\n",
    "\n",
    "def invert_interval(testmus,cls_obs, cls_exp, test_size = 0.05):\n",
    "    point05cross = {'exp':[],'obs':None}\n",
    "    for cls_exp_sigma in cls_exp:\n",
    "        yvals = [x for x in cls_exp_sigma]\n",
    "        point05cross['exp'].append(np.interp(test_size,list(reversed(yvals)),list(reversed(testmus))))\n",
    "        \n",
    "    yvals = cls_obs\n",
    "    point05cross['obs'] = np.interp(test_size,list(reversed(yvals)),list(reversed(testmus)))\n",
    "    return point05cross\n",
    "\n",
    "\n",
    "CLsOnePoint(1.0,d,pdf,init_pars,par_bounds)\n",
    "\n",
    "\n",
    "mutests = np.linspace(0,5,61)\n",
    "tests = [CLsOnePoint(muTest,d,pdf,init_pars,par_bounds) for muTest in mutests]\n",
    "cls_obs = [test[0]  for test in tests]\n",
    "cls_exp = [[test[1][i]  for test in tests] for i in range(5)]\n",
    "plot_results(mutests, cls_obs, cls_exp)\n",
    "invert_interval(mutests, cls_obs, cls_exp)\n"
   ]
  },
  {
   "cell_type": "code",
   "execution_count": null,
   "metadata": {},
   "outputs": [],
   "source": []
  }
 ],
 "metadata": {
  "kernelspec": {
   "display_name": "Python 2",
   "language": "python",
   "name": "python2"
  },
  "language_info": {
   "codemirror_mode": {
    "name": "ipython",
    "version": 2
   },
   "file_extension": ".py",
   "mimetype": "text/x-python",
   "name": "python",
   "nbconvert_exporter": "python",
   "pygments_lexer": "ipython2",
   "version": "2.7.10"
  }
 },
 "nbformat": 4,
 "nbformat_minor": 2
}
