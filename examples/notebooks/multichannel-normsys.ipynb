{
 "cells": [
  {
   "cell_type": "code",
   "execution_count": 72,
   "metadata": {},
   "outputs": [
    {
     "name": "stdout",
     "output_type": "stream",
     "text": [
      "Populating the interactive namespace from numpy and matplotlib\n"
     ]
    }
   ],
   "source": [
    "%pylab inline"
   ]
  },
  {
   "cell_type": "code",
   "execution_count": 73,
   "metadata": {},
   "outputs": [],
   "source": [
    "import pyhf\n",
    "import logging\n",
    "logging.basicConfig(level = logging.ERROR)\n",
    "reload(pyhf)\n",
    "from pyhf import hfpdf\n",
    "def prep_data(sourcedata):\n",
    "    spec =  {\n",
    "        'signal': {\n",
    "            'signal': {\n",
    "                'data': sourcedata['signal']['bindata']['sig'],\n",
    "                'mods': [\n",
    "                    {\n",
    "                        'name': 'mu',\n",
    "                        'type': 'normfactor',\n",
    "                        'data': None\n",
    "                    }\n",
    "                ]\n",
    "            },\n",
    "            'background': {\n",
    "                'data': sourcedata['signal']['bindata']['bkg'],\n",
    "                'mods': [\n",
    "                    {\n",
    "                        'name': 'uncorr_bkguncrt_signal',\n",
    "                        'type': 'shapesys',\n",
    "                        'data': sourcedata['signal']['bindata']['bkgerr']\n",
    "                    }\n",
    "                ]\n",
    "            }\n",
    "        },\n",
    "        'control': {\n",
    "            'background': {\n",
    "                'data': sourcedata['control']['bindata']['bkg'],\n",
    "                'mods': [\n",
    "                    {\n",
    "                        'name': 'uncorr_bkguncrt_control',\n",
    "                        'type': 'shapesys',\n",
    "                        'data': sourcedata['control']['bindata']['bkgerr']\n",
    "                    }\n",
    "                ]\n",
    "            }            \n",
    "        }\n",
    "    }\n",
    "    pdf  = hfpdf(spec)\n",
    "    data = []\n",
    "    for c in pdf.channel_order:\n",
    "        data += sourcedata[c]['bindata']['data']\n",
    "    data = data + pdf.auxdata\n",
    "    return data, pdf"
   ]
  },
  {
   "cell_type": "code",
   "execution_count": 74,
   "metadata": {
    "scrolled": false
   },
   "outputs": [
    {
     "name": "stdout",
     "output_type": "stream",
     "text": [
      "[205.0, 345.0, 110.0, 155.0, 1600.0, 1225.0, 100.0, 225.0]\n",
      "6.444423901300363e-15\n",
      "UNCON [1.00225339 0.99620861 0.21647205 1.03451146 0.99071727]\n"
     ]
    },
    {
     "name": "stderr",
     "output_type": "stream",
     "text": [
      "/Users/lukas/Code/histfactory/pyhf/pyhf/__init__.py:316: RuntimeWarning: divide by zero encountered in log\n",
      "  for d,lam in zip(actual_data, lambdas_data):\n",
      "/Users/lukas/Code/histfactory/pyhf/pyhf/__init__.py:304: RuntimeWarning: divide by zero encountered in log\n",
      "  for a,alpha in zip(thisauxdata, modalphas):\n"
     ]
    },
    {
     "name": "stdout",
     "output_type": "stream",
     "text": [
      "CONS [1.00225277 0.99620813 0.         1.0462051  1.01080135]\n"
     ]
    }
   ],
   "source": [
    "source = {\n",
    "  \"channels\": {\n",
    "    \"signal\": {\n",
    "      \"binning\": [2,-0.5,1.5],\n",
    "      \"bindata\": {\n",
    "        \"data\":    [110.0, 155.0],\n",
    "        \"bkgerr\":  [10.0, 10.0],\n",
    "        \"bkg\":     [100.0, 150.0],\n",
    "        \"sig\":     [10.0, 35.0]\n",
    "      }\n",
    "    },\n",
    "    \"control\": {\n",
    "      \"binning\": [2,-0.5,1.5],\n",
    "      \"bindata\": {\n",
    "        \"data\":    [205.0, 345.0],\n",
    "        \"bkg\":     [200.0, 350.0],\n",
    "        \"bkgerr\":  [5.0, 10.0]\n",
    "      }\n",
    "    }\n",
    "  }\n",
    "}\n",
    "\n",
    "d,pdf = prep_data(source['channels'])\n",
    "\n",
    "print d\n",
    "\n",
    "init_pars = [1.0,1.0,1.0,1.0,1.0]\n",
    "par_bounds = [[0,10],[0,10],[0,10],[0,10],[0,10]]\n",
    "\n",
    "\n",
    "print pdf.pdf(init_pars, d)\n",
    "\n",
    "unconpars = pyhf.unconstrained_bestfit(d,pdf,init_pars,par_bounds)\n",
    "print 'UNCON',unconpars\n",
    "\n",
    "\n",
    "# print d\n",
    "# print pdf.expected_data(unconpars)\n",
    "\n",
    "\n",
    "conpars = pyhf.constrained_bestfit(0.0,d,pdf,init_pars,par_bounds)\n",
    "print 'CONS', conpars\n",
    "\n",
    "\n",
    "# print pdf.expected_data(conpars)\n",
    "\n",
    "# # print '????',aux\n",
    "# aux = pdf.expected_auxdata(conpars)\n",
    "# # print '????',aux\n",
    "\n",
    "# print 'ASIMOV',pyhf.generate_asimov_data(0.0,d,pdf,init_pars,par_bounds)"
   ]
  },
  {
   "cell_type": "code",
   "execution_count": null,
   "metadata": {
    "scrolled": false
   },
   "outputs": [],
   "source": [
    "def plot_results(testmus,cls_obs, cls_exp, test_size = 0.05):\n",
    "    plt.plot(mutests,cls_obs, c = 'k')\n",
    "    for i,c in zip(range(5),['grey','grey','grey','grey','grey']):\n",
    "        plt.plot(mutests,cls_exp[i], c = c)\n",
    "    plt.plot(testmus,[test_size]*len(testmus), c = 'r')\n",
    "    plt.ylim(0,1)\n",
    "\n",
    "def CLsOnePoint(muTest,d,pdf, init_pars,par_bounds):\n",
    "    clsobs, cls_exp = pyhf.runOnePoint(muTest, d,pdf,init_pars,par_bounds)[-2:]\n",
    "    return 1./clsobs, [1./x for x in cls_exp]\n",
    "\n",
    "def invert_interval(testmus,cls_obs, cls_exp, test_size = 0.05):\n",
    "    point05cross = {'exp':[],'obs':None}\n",
    "    for cls_exp_sigma in cls_exp:\n",
    "        yvals = [x for x in cls_exp_sigma]\n",
    "        point05cross['exp'].append(np.interp(test_size,list(reversed(yvals)),list(reversed(testmus))))\n",
    "        \n",
    "    yvals = cls_obs\n",
    "    point05cross['obs'] = np.interp(test_size,list(reversed(yvals)),list(reversed(testmus)))\n",
    "    return point05cross\n",
    "\n",
    "\n",
    "CLsOnePoint(1.0,d,pdf,init_pars,par_bounds)\n",
    "\n",
    "\n",
    "mutests = np.linspace(0,5,61)\n",
    "tests = [CLsOnePoint(muTest,d,pdf,init_pars,par_bounds) for muTest in mutests]\n",
    "cls_obs = [test[0]  for test in tests]\n",
    "cls_exp = [[test[1][i]  for test in tests] for i in range(5)]\n",
    "\n",
    "plot_results(mutests, cls_obs, cls_exp)\n",
    "\n",
    "invert_interval(mutests, cls_obs, cls_exp)\n",
    "\n",
    "\n"
   ]
  },
  {
   "cell_type": "code",
   "execution_count": null,
   "metadata": {},
   "outputs": [],
   "source": [
    "pdf.config.nuis_map"
   ]
  },
  {
   "cell_type": "code",
   "execution_count": null,
   "metadata": {},
   "outputs": [],
   "source": []
  }
 ],
 "metadata": {
  "kernelspec": {
   "display_name": "Python 2",
   "language": "python",
   "name": "python2"
  },
  "language_info": {
   "codemirror_mode": {
    "name": "ipython",
    "version": 2
   },
   "file_extension": ".py",
   "mimetype": "text/x-python",
   "name": "python",
   "nbconvert_exporter": "python",
   "pygments_lexer": "ipython2",
   "version": "2.7.10"
  }
 },
 "nbformat": 4,
 "nbformat_minor": 2
}
