{
 "cells": [
  {
   "cell_type": "code",
   "execution_count": 1,
   "metadata": {},
   "outputs": [
    {
     "name": "stdout",
     "output_type": "stream",
     "text": [
      "Populating the interactive namespace from numpy and matplotlib\n"
     ]
    }
   ],
   "source": [
    "%pylab inline"
   ]
  },
  {
   "cell_type": "code",
   "execution_count": 2,
   "metadata": {
    "scrolled": false
   },
   "outputs": [],
   "source": [
    "from pyhf import runOnePoint\n",
    "\n",
    "def prep_data(observed_counts,backgrounds_incl_uncert,nominal_signals):\n",
    "    constants = []\n",
    "    actual_data = []\n",
    "    constraint_data = []\n",
    "    \n",
    "    for n, b_incl_uncert, snom in zip(observed_counts,backgrounds_incl_uncert,nominal_signals):\n",
    "        b, deltab = b_incl_uncert\n",
    "        tau = b/deltab/deltab\n",
    "        actual_data.append(n)\n",
    "        constraint_data.append(tau*b)\n",
    "        constants.append(tau)\n",
    "\n",
    "    data = actual_data + constraint_data\n",
    "    s = lambda mu: [mu*snom for snom in nominal_signals]  # signal_counts as function of signal strength\n",
    "    return data, constants, s\n",
    "    \n",
    "def CLsOnePoint(muTest, observed_counts,backgrounds_incl_uncert,nominal_signals, init_pars,par_bounds):\n",
    "    data, constants, s = prep_data(observed_counts,backgrounds_incl_uncert,nominal_signals)\n",
    "    clsobs, cls_exp = runOnePoint(muTest, data,constants,s,init_pars,par_bounds)[-2:]\n",
    "    return 1./clsobs, [1./x for x in cls_exp]"
   ]
  },
  {
   "cell_type": "code",
   "execution_count": 3,
   "metadata": {},
   "outputs": [],
   "source": [
    "def invert_interval(testmus,cls_obs, cls_exp, test_size = 0.05):\n",
    "    point05cross = {'exp':[],'obs':None}\n",
    "    for cls_exp_sigma in cls_exp:\n",
    "        yvals = [x for x in cls_exp_sigma]\n",
    "        point05cross['exp'].append(np.interp(test_size,list(reversed(yvals)),list(reversed(testmus))))\n",
    "        \n",
    "    yvals = cls_obs\n",
    "    point05cross['obs'] = np.interp(test_size,list(reversed(yvals)),list(reversed(testmus)))\n",
    "    return point05cross"
   ]
  },
  {
   "cell_type": "code",
   "execution_count": 4,
   "metadata": {},
   "outputs": [],
   "source": [
    "def plot_results(testmus,cls_obs, cls_exp, test_size = 0.05):\n",
    "    plt.plot(mutests,cls_obs, c = 'k')\n",
    "    for i,c in zip(range(5),['grey','grey','grey','grey','grey']):\n",
    "        plt.plot(mutests,cls_exp[i], c = c)\n",
    "    plt.plot(testmus,[test_size]*len(testmus), c = 'r')\n",
    "    plt.ylim(0,1)\n"
   ]
  },
  {
   "cell_type": "code",
   "execution_count": 5,
   "metadata": {
    "scrolled": false
   },
   "outputs": [
    {
     "name": "stdout",
     "output_type": "stream",
     "text": [
      "ON MU=1\n",
      "CLs: obs 39.5292986164 exp: [10753.709914097957, 995.9775686044846, 107.17314694836956, 15.34369495086931, 3.5619886159328624]\n",
      "RUN SCAN\n"
     ]
    },
    {
     "name": "stderr",
     "output_type": "stream",
     "text": [
      "/Users/lukas/Code/histfactory/pyhf/pyhf/__init__.py:107: RuntimeWarning: divide by zero encountered in double_scalars\n",
      "  CLs  = CLb/CLsb\n"
     ]
    },
    {
     "data": {
      "text/plain": [
       "{'exp': [0.4425802017617599,\n",
       "  0.5752406915805164,\n",
       "  0.7716556141137679,\n",
       "  1.055068561661205,\n",
       "  1.3815292546256284],\n",
       " 'obs': 0.8990904067366252}"
      ]
     },
     "execution_count": 5,
     "metadata": {},
     "output_type": "execute_result"
    },
    {
     "data": {
      "image/png": "[encoded data removed]",
      "text/plain": [
       "<matplotlib.figure.Figure at 0x10c1f7b90>"
      ]
     },
     "metadata": {},
     "output_type": "display_data"
    }
   ],
   "source": [
    "source = {\n",
    "  \"binning\": [2,-0.5,1.5],\n",
    "  \"bindata\": {\n",
    "    \"data\":    [120.0, 145.0],\n",
    "    \"bkg\":     [100.0, 150.0],\n",
    "    \"bkgerr\":  [15.0, 20.0],\n",
    "    \"sig\":     [30.0, 45.0]\n",
    "  }\n",
    "}\n",
    "# import json\n",
    "# source = json.load(open('./data/source.json'))\n",
    "\n",
    "\n",
    "my_observed_counts = source['bindata']['data']\n",
    "my_background_counts = zip(source['bindata']['bkg'],source['bindata']['bkgerr'])\n",
    "my_signal_counts = source['bindata']['sig']\n",
    "init_pars = [1.0] + [b[0] for b in my_background_counts]\n",
    "par_bounds = [[0,10]] + [[0.5*b,2.*b] for b,db in my_background_counts]\n",
    "\n",
    "print 'ON MU=1'\n",
    "d = CLsOnePoint(1.0,my_observed_counts,my_background_counts,my_signal_counts,init_pars,par_bounds)\n",
    "print 'CLs: obs {} exp: {}'.format(1./d[-2],[1./x for x in d[-1]])\n",
    "\n",
    "print 'RUN SCAN'\n",
    "mutests = np.linspace(0,5,41)\n",
    "tests = [CLsOnePoint(muTest,my_observed_counts,my_background_counts,my_signal_counts,init_pars,par_bounds) for muTest in mutests]\n",
    "cls_obs = [test[0]  for test in tests]\n",
    "cls_exp = [[test[1][i]  for test in tests] for i in range(5)]\n",
    "\n",
    "plot_results(mutests, cls_obs, cls_exp)\n",
    "\n",
    "invert_interval(mutests, cls_obs, cls_exp)"
   ]
  },
  {
   "cell_type": "code",
   "execution_count": 14,
   "metadata": {},
   "outputs": [],
   "source": [
    "d,c,s = prep_data(my_observed_counts,my_background_counts,my_signal_counts)\n",
    "from pyhf import model_expected_actualdata, unconstrained_bestfit\n",
    "\n",
    "binning = source['binning']\n",
    "\n",
    "nominal_nuis = [b for b,db in my_background_counts]\n",
    "nom_bonly = model_expected_actualdata(s, 0.0, nominal_nuis, c)\n",
    "nom_sb = model_expected_actualdata(s, 1.0, nominal_nuis, c)\n",
    "\n",
    "bestfit_pars  = unconstrained_bestfit(d,c,s,init_pars,par_bounds)\n",
    "bestfit_cts = model_expected_actualdata(s, bestfit_pars[0], bestfit_pars[1:], c)\n",
    "\n",
    "def plot_histo(ax, binning, data):\n",
    "    bin_width = (binning[2]-binning[1])/binning[0]\n",
    "    bin_leftedges = np.linspace(binning[1],binning[2],binning[0]+1)[:-1]\n",
    "    bin_centers = [le + bin_width/2. for le in bin_leftedges]\n",
    "    ax.bar(bin_centers,data,1, alpha=0.5)\n",
    "\n",
    "\n",
    "def plot_data(ax, binning, data):\n",
    "    errors = [math.sqrt(d) for d in data]\n",
    "    bin_width = (binning[2]-binning[1])/binning[0]\n",
    "    bin_leftedges = np.linspace(binning[1],binning[2],binning[0]+1)[:-1]\n",
    "    bin_centers = [le + bin_width/2. for le in bin_leftedges]    \n",
    "    ax.bar(bin_centers,data,0, yerr=errors, linewidth=0, error_kw = dict(ecolor='k', elinewidth = 1))\n",
    "    ax.scatter(bin_centers, data, c = 'k')\n"
   ]
  },
  {
   "cell_type": "code",
   "execution_count": 15,
   "metadata": {},
   "outputs": [
    {
     "data": {
      "text/plain": [
       "(0, 300)"
      ]
     },
     "execution_count": 15,
     "metadata": {},
     "output_type": "execute_result"
    },
    {
     "data": {
      "image/png": "[encoded data removed]",
      "text/plain": [
       "<matplotlib.figure.Figure at 0x10e2c3410>"
      ]
     },
     "metadata": {},
     "output_type": "display_data"
    }
   ],
   "source": [
    "f,axarr = plt.subplots(1,3,sharey=True)\n",
    "f.set_size_inches(12,4)\n",
    "\n",
    "plot_histo(axarr[0], binning, nom_bonly)\n",
    "plot_data(axarr[0], binning, my_observed_counts)\n",
    "axarr[0].set_xlim(binning[1:])\n",
    "\n",
    "plot_histo(axarr[1], binning, nom_sb)\n",
    "plot_data(axarr[1], binning, my_observed_counts)\n",
    "axarr[1].set_xlim(binning[1:])\n",
    "\n",
    "plot_histo(axarr[2], binning, bestfit_cts)\n",
    "plot_data(axarr[2], binning, my_observed_counts)\n",
    "axarr[2].set_xlim(binning[1:])\n",
    "\n",
    "plt.ylim(0,300)"
   ]
  },
  {
   "cell_type": "code",
   "execution_count": 16,
   "metadata": {},
   "outputs": [],
   "source": [
    "##\n",
    "##  DUMMY 2D thing\n",
    "##\n",
    "\n",
    "def signal(m1,m2):\n",
    "    x = np.linspace(100,1000)\n",
    "    massscale = 600.\n",
    "    minmass = 100.\n",
    "    countscale = 100\n",
    "    \n",
    "    effective_mass = np.sqrt(m1**2 + m2**2)\n",
    "    return [countscale*np.exp(-(effective_mass-minmass)/massscale), 0]\n",
    "\n",
    "@np.vectorize\n",
    "def cls(m1,m2):\n",
    "    signal_counts = signal(m1,m2)\n",
    "    clsobs, clsexp = CLsOnePoint(1.0,my_observed_counts,my_background_counts,signal_counts,init_pars,par_bounds)[-2:]\n",
    "    return clsobs\n"
   ]
  },
  {
   "cell_type": "code",
   "execution_count": 17,
   "metadata": {},
   "outputs": [],
   "source": [
    "x = np.linspace(100,1000)\n",
    "y = np.linspace(100,1000)"
   ]
  },
  {
   "cell_type": "code",
   "execution_count": 18,
   "metadata": {},
   "outputs": [],
   "source": [
    "grid = grid_x, grid_y = np.mgrid[100:1000:10j,100:1000:10j]\n",
    "X = grid.T.reshape(10*10,2)\n",
    "y = cls(X[:,0],X[:,1])"
   ]
  },
  {
   "cell_type": "code",
   "execution_count": 19,
   "metadata": {},
   "outputs": [
    {
     "data": {
      "text/plain": [
       "<matplotlib.contour.QuadContourSet at 0x10e768490>"
      ]
     },
     "execution_count": 19,
     "metadata": {},
     "output_type": "execute_result"
    },
    {
     "data": {
      "image/png": "[encoded data removed]",
      "text/plain": [
       "<matplotlib.figure.Figure at 0x10e0ebfd0>"
      ]
     },
     "metadata": {},
     "output_type": "display_data"
    }
   ],
   "source": [
    "from scipy.interpolate import griddata\n",
    "interpolated = griddata(X, y, (grid_x, grid_y), method='linear')\n",
    "\n",
    "plt.contourf(grid_x, grid_y, interpolated, levels = np.linspace(0,1))\n",
    "plt.scatter(X[:,0],X[:,1], c = y, vmin = 0, vmax = 1)\n",
    "plt.colorbar()\n",
    "plt.contour(grid_x, grid_y, interpolated, levels = [0.05], colors = 'w')"
   ]
  },
  {
   "cell_type": "code",
   "execution_count": null,
   "metadata": {},
   "outputs": [],
   "source": []
  }
 ],
 "metadata": {
  "kernelspec": {
   "display_name": "Python 2",
   "language": "python",
   "name": "python2"
  },
  "language_info": {
   "codemirror_mode": {
    "name": "ipython",
    "version": 2
   },
   "file_extension": ".py",
   "mimetype": "text/x-python",
   "name": "python",
   "nbconvert_exporter": "python",
   "pygments_lexer": "ipython2",
   "version": "2.7.10"
  }
 },
 "nbformat": 4,
 "nbformat_minor": 1
}
