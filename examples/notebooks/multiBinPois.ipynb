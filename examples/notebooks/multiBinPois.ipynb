{
 "cells": [
  {
   "cell_type": "code",
   "execution_count": 2,
   "metadata": {},
   "outputs": [
    {
     "name": "stdout",
     "output_type": "stream",
     "text": [
      "Populating the interactive namespace from numpy and matplotlib\n"
     ]
    }
   ],
   "source": [
    "%pylab inline"
   ]
  },
  {
   "cell_type": "code",
   "execution_count": 3,
   "metadata": {
    "scrolled": false
   },
   "outputs": [],
   "source": [
    "import pyhf\n",
    "import logging\n",
    "reload(pyhf)\n",
    "reload(logging)\n",
    "\n",
    "logging.basicConfig(level = logging.ERROR)\n",
    "\n",
    "\n",
    "from pyhf import runOnePoint, hfpdf\n",
    "def prep_data(observed_counts,backgrounds_incl_uncert,nominal_signals):\n",
    "    b_counts = [b[0] for b in backgrounds_incl_uncert]\n",
    "    b_uncerts = [b[1] for b in backgrounds_incl_uncert]\n",
    "    \n",
    "    pdf  = hfpdf.hepdata_like(nominal_signals, b_counts, b_uncerts)\n",
    "    data = observed_counts + pdf.auxdata\n",
    "    return data, pdf\n",
    "    \n",
    "def CLsOnePoint(muTest, observed_counts,backgrounds_incl_uncert,nominal_signals, init_pars,par_bounds):\n",
    "    data, pdf = prep_data(observed_counts,backgrounds_incl_uncert,nominal_signals)\n",
    "    clsobs, cls_exp = runOnePoint(muTest, data,pdf,init_pars,par_bounds)[-2:]\n",
    "    return 1./clsobs, [1./x for x in cls_exp]"
   ]
  },
  {
   "cell_type": "code",
   "execution_count": 4,
   "metadata": {},
   "outputs": [],
   "source": [
    "def invert_interval(testmus,cls_obs, cls_exp, test_size = 0.05):\n",
    "    point05cross = {'exp':[],'obs':None}\n",
    "    for cls_exp_sigma in cls_exp:\n",
    "        yvals = [x for x in cls_exp_sigma]\n",
    "        point05cross['exp'].append(np.interp(test_size,list(reversed(yvals)),list(reversed(testmus))))\n",
    "        \n",
    "    yvals = cls_obs\n",
    "    point05cross['obs'] = np.interp(test_size,list(reversed(yvals)),list(reversed(testmus)))\n",
    "    return point05cross"
   ]
  },
  {
   "cell_type": "code",
   "execution_count": 5,
   "metadata": {},
   "outputs": [],
   "source": [
    "def plot_results(testmus,cls_obs, cls_exp, test_size = 0.05):\n",
    "    plt.plot(mutests,cls_obs, c = 'k')\n",
    "    for i,c in zip(range(5),['grey','grey','grey','grey','grey']):\n",
    "        plt.plot(mutests,cls_exp[i], c = c)\n",
    "    plt.plot(testmus,[test_size]*len(testmus), c = 'r')\n",
    "    plt.ylim(0,1)\n"
   ]
  },
  {
   "cell_type": "code",
   "execution_count": 6,
   "metadata": {
    "scrolled": false
   },
   "outputs": [
    {
     "name": "stdout",
     "output_type": "stream",
     "text": [
      "{u'bindata': {u'sig': [10.0], u'bkg': [50.0], u'data': [55.0], u'bkgerr': [7.0]}, u'binning': [2, -0.5, 1.5]}\n",
      "('val', 0.0023355788029574354)\n",
      "ON MU=1\n",
      "CLs: obs 2.22055839159 exp: [16.247869595791993, 6.791920685263302, 3.098457663895264, 1.6678392834784712, 1.1578378795767996]\n",
      "RUN SCAN\n"
     ]
    },
    {
     "name": "stderr",
     "output_type": "stream",
     "text": [
      "/Users/lukas/Code/histfactory/pyhf/venv/lib/python2.7/site-packages/scipy/stats/_distn_infrastructure.py:1652: RuntimeWarning: divide by zero encountered in double_scalars\n",
      "  x = np.asarray((x - loc)/scale, dtype=dtyp)\n",
      "/Users/lukas/Code/histfactory/pyhf/pyhf/__init__.py:316: RuntimeWarning: divide by zero encountered in log\n",
      "  sum = sum + np.log(_poisson_impl(d, lam))\n",
      "/Users/lukas/Code/histfactory/pyhf/pyhf/__init__.py:304: RuntimeWarning: divide by zero encountered in log\n",
      "  sum = sum + np.log(mod.pdf(a, alpha))\n"
     ]
    },
    {
     "data": {
      "text/plain": [
       "{'exp': [1.070397565798206,\n",
       "  1.4420036447647087,\n",
       "  2.0195346061497648,\n",
       "  2.865953837042437,\n",
       "  3.9631391175146797],\n",
       " 'obs': 2.3880423878562675}"
      ]
     },
     "execution_count": 6,
     "metadata": {},
     "output_type": "execute_result"
    },
    {
     "data": {
      "image/png": "[encoded data removed]",
      "text/plain": [
       "<matplotlib.figure.Figure at 0x111d28590>"
      ]
     },
     "metadata": {},
     "output_type": "display_data"
    }
   ],
   "source": [
    "import json\n",
    "source = json.load(open('./../../validation/data/1bin_example1.json'))\n",
    "\n",
    "print (source)\n",
    "# print json.dumps(source, indent=4)\n",
    "\n",
    "my_observed_counts = source['bindata']['data']\n",
    "my_background_counts = zip(source['bindata']['bkg'],source['bindata']['bkgerr'])\n",
    "my_signal_counts = source['bindata']['sig']\n",
    "\n",
    "\n",
    "\n",
    "d,pdf = prep_data(my_observed_counts,my_background_counts,my_signal_counts)\n",
    "\n",
    "#init pars are mu + gammas \n",
    "init_pars = [1.0] + [1.0]*len(source['bindata']['bkg'])\n",
    "\n",
    "print ('val', pdf.pdf(init_pars,d))\n",
    "\n",
    "#parameter bounds for gammas is [0,10]\n",
    "par_bounds = [[0,10]] + [[0,10]] * len(source['bindata']['bkg'])\n",
    "\n",
    "\n",
    "pars = pyhf.constrained_bestfit(0.0,d,pdf,init_pars,par_bounds)\n",
    "\n",
    "print( 'ON MU=1')\n",
    "d = CLsOnePoint(1.0,my_observed_counts,my_background_counts,my_signal_counts,init_pars,par_bounds)\n",
    "print( 'CLs: obs {} exp: {}'.format(1./d[-2],[1./x for x in d[-1]]))\n",
    "\n",
    "print ('RUN SCAN')\n",
    "mutests = np.linspace(0,5,41)\n",
    "tests = [CLsOnePoint(muTest,my_observed_counts,my_background_counts,my_signal_counts,init_pars,par_bounds) for muTest in mutests]\n",
    "cls_obs = [test[0]  for test in tests]\n",
    "cls_exp = [[test[1][i]  for test in tests] for i in range(5)]\n",
    "\n",
    "plot_results(mutests, cls_obs, cls_exp)\n",
    "\n",
    "invert_interval(mutests, cls_obs, cls_exp)"
   ]
  },
  {
   "cell_type": "code",
   "execution_count": 7,
   "metadata": {
    "scrolled": false
   },
   "outputs": [
    {
     "name": "stdout",
     "output_type": "stream",
     "text": [
      "[100.0, 150.0]\n"
     ]
    }
   ],
   "source": [
    "source = {\n",
    "  \"binning\": [2,-0.5,1.5],\n",
    "  \"bindata\": {\n",
    "    \"data\":    [120.0, 145.0],\n",
    "    \"bkg\":     [100.0, 150.0],\n",
    "    \"bkgerr\":  [15.0, 20.0],\n",
    "    \"sig\":     [30.0, 45.0]\n",
    "  }\n",
    "}\n",
    "\n",
    "my_observed_counts = source['bindata']['data']\n",
    "my_background_counts = zip(source['bindata']['bkg'],source['bindata']['bkgerr'])\n",
    "my_signal_counts = source['bindata']['sig']\n",
    "init_pars = [1.0] + [1.0 for b in my_background_counts]\n",
    "par_bounds = [[0,10]] + [[0,10] for b,db in my_background_counts]\n",
    "\n",
    "d,pdf = prep_data(my_observed_counts,my_background_counts,my_signal_counts)\n",
    "from pyhf import hfpdf, unconstrained_bestfit\n",
    "\n",
    "binning = source['binning']\n",
    "\n",
    "nominal_nuis = [1.0 for b,db in my_background_counts]\n",
    "nom_bonly = pdf.expected_data([0.0] + nominal_nuis, include_auxdata = False)\n",
    "\n",
    "print nom_bonly\n",
    "\n",
    "\n",
    "nom_sb = pdf.expected_data([1.0] + nominal_nuis, include_auxdata = False)\n",
    "\n",
    "bestfit_pars = unconstrained_bestfit(d,pdf,init_pars,par_bounds)\n",
    "bestfit_cts  = pdf.expected_data(bestfit_pars, include_auxdata = False)\n",
    "\n",
    "def plot_histo(ax, binning, data):\n",
    "    bin_width = (binning[2]-binning[1])/binning[0]\n",
    "    bin_leftedges = np.linspace(binning[1],binning[2],binning[0]+1)[:-1]\n",
    "    bin_centers = [le + bin_width/2. for le in bin_leftedges]\n",
    "    ax.bar(bin_centers,data,1, alpha=0.5)\n",
    "\n",
    "\n",
    "def plot_data(ax, binning, data):\n",
    "    errors = [math.sqrt(d) for d in data]\n",
    "    bin_width = (binning[2]-binning[1])/binning[0]\n",
    "    bin_leftedges = np.linspace(binning[1],binning[2],binning[0]+1)[:-1]\n",
    "    bin_centers = [le + bin_width/2. for le in bin_leftedges]    \n",
    "    ax.bar(bin_centers,data,0, yerr=errors, linewidth=0, error_kw = dict(ecolor='k', elinewidth = 1))\n",
    "    ax.scatter(bin_centers, data, c = 'k')\n"
   ]
  },
  {
   "cell_type": "code",
   "execution_count": 8,
   "metadata": {},
   "outputs": [
    {
     "data": {
      "text/plain": [
       "(0, 300)"
      ]
     },
     "execution_count": 8,
     "metadata": {},
     "output_type": "execute_result"
    },
    {
     "data": {
      "image/png": "[encoded data removed]",
      "text/plain": [
       "<matplotlib.figure.Figure at 0x113a465d0>"
      ]
     },
     "metadata": {},
     "output_type": "display_data"
    }
   ],
   "source": [
    "f,axarr = plt.subplots(1,3,sharey=True)\n",
    "f.set_size_inches(12,4)\n",
    "\n",
    "plot_histo(axarr[0], binning, nom_bonly)\n",
    "plot_data(axarr[0], binning, my_observed_counts)\n",
    "axarr[0].set_xlim(binning[1:])\n",
    "\n",
    "plot_histo(axarr[1], binning, nom_sb)\n",
    "plot_data(axarr[1], binning, my_observed_counts)\n",
    "axarr[1].set_xlim(binning[1:])\n",
    "\n",
    "plot_histo(axarr[2], binning, bestfit_cts)\n",
    "plot_data(axarr[2], binning, my_observed_counts)\n",
    "axarr[2].set_xlim(binning[1:])\n",
    "\n",
    "plt.ylim(0,300)"
   ]
  },
  {
   "cell_type": "code",
   "execution_count": null,
   "metadata": {},
   "outputs": [],
   "source": [
    "##\n",
    "##  DUMMY 2D thing\n",
    "##\n",
    "\n",
    "def signal(m1,m2):\n",
    "    massscale = 150.\n",
    "    minmass = 100.\n",
    "    countscale = 2000\n",
    "    \n",
    "    effective_mass = np.sqrt(m1**2 + m2**2)\n",
    "    return [countscale*np.exp(-(effective_mass-minmass)/massscale), 0]\n",
    "\n",
    "def cls(m1,m2):\n",
    "    signal_counts = signal(m1,m2)\n",
    "    clsobs, clsexp = CLsOnePoint(1.0,my_observed_counts,my_background_counts,signal_counts,init_pars,par_bounds)[-2:]\n",
    "    \n",
    "    return clsobs, clsexp"
   ]
  },
  {
   "cell_type": "code",
   "execution_count": null,
   "metadata": {
    "scrolled": false
   },
   "outputs": [
    {
     "name": "stderr",
     "output_type": "stream",
     "text": [
      "/Users/lukas/Code/histfactory/pyhf/pyhf/__init__.py:367: RuntimeWarning: divide by zero encountered in double_scalars\n",
      "  CLs  = CLb/CLsb\n"
     ]
    }
   ],
   "source": [
    "nx, ny = 15,15\n",
    "grid = grid_x, grid_y = np.mgrid[100:1000:complex(0,nx),100:1000:complex(0,ny)]\n",
    "X = grid.T.reshape(nx * ny,2)\n",
    "results = [cls(m1,m2) for m1,m2 in X]"
   ]
  },
  {
   "cell_type": "code",
   "execution_count": null,
   "metadata": {},
   "outputs": [],
   "source": [
    "yobs =  [obs    for obs, exp in results]\n",
    "yexp = [[exp[i] for obs, exp in results] for i in range(5)]"
   ]
  },
  {
   "cell_type": "code",
   "execution_count": null,
   "metadata": {
    "scrolled": false
   },
   "outputs": [],
   "source": [
    "from scipy.interpolate import griddata\n",
    "int_obs = griddata(X, yobs, (grid_x, grid_y), method='linear')\n",
    "\n",
    "int_exp = [griddata(X, yexp[i], (grid_x, grid_y), method='linear') for i in range(5)]\n",
    "\n",
    "print int_obs.shape\n",
    "\n",
    "\n",
    "plt.contourf(grid_x, grid_y, int_obs, levels = np.linspace(0,1))\n",
    "plt.colorbar()\n",
    "\n",
    "plt.contour(grid_x, grid_y, int_obs, levels = [0.05], colors = 'w')\n",
    "for level in int_exp:\n",
    "    plt.contour(grid_x, grid_y, level, levels = [0.05], colors = 'w', linestyles = 'dashed')\n",
    "\n",
    "plt.scatter(X[:,0],X[:,1], c = yobs, vmin = 0, vmax = 1)\n"
   ]
  },
  {
   "cell_type": "code",
   "execution_count": null,
   "metadata": {},
   "outputs": [],
   "source": []
  },
  {
   "cell_type": "code",
   "execution_count": null,
   "metadata": {},
   "outputs": [],
   "source": []
  }
 ],
 "metadata": {
  "kernelspec": {
   "display_name": "Python 2",
   "language": "python",
   "name": "python2"
  },
  "language_info": {
   "codemirror_mode": {
    "name": "ipython",
    "version": 2
   },
   "file_extension": ".py",
   "mimetype": "text/x-python",
   "name": "python",
   "nbconvert_exporter": "python",
   "pygments_lexer": "ipython2",
   "version": "2.7.10"
  }
 },
 "nbformat": 4,
 "nbformat_minor": 1
}
