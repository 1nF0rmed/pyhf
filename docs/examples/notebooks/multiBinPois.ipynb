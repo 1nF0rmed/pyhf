{
 "cells": [
  {
   "cell_type": "markdown",
   "metadata": {},
   "source": [
    "# Multi-bin Poisson"
   ]
  },
  {
   "cell_type": "code",
   "execution_count": null,
   "metadata": {},
   "outputs": [],
   "source": [
    "%pylab inline"
   ]
  },
  {
   "cell_type": "code",
   "execution_count": null,
   "metadata": {},
   "outputs": [],
   "source": [
    "import logging\n",
    "import json\n",
    "\n",
    "import pyhf\n",
    "from pyhf import Model, optimizer\n",
    "from pyhf.simplemodels import hepdata_like\n",
    "\n",
    "from scipy.interpolate import griddata\n",
    "import scrapbook as sb"
   ]
  },
  {
   "cell_type": "code",
   "execution_count": null,
   "metadata": {},
   "outputs": [],
   "source": [
    "def plot_results(testmus, cls_obs, cls_exp, poi_tests, test_size=0.05):\n",
    "    plt.plot(poi_tests, cls_obs, c=\"k\")\n",
    "    for idx, color in zip(range(5), 5 * [\"grey\"]):\n",
    "        plt.plot(poi_tests, cls_exp[idx], c=color)\n",
    "    plt.plot(testmus, [test_size] * len(testmus), c=\"r\")\n",
    "    plt.ylim(0, 1)\n",
    "\n",
    "\n",
    "def invert_interval(test_mus, cls_obs, cls_exp, test_size=0.05):\n",
    "    crossing_test_stats = {'exp': [], 'obs': None}\n",
    "    for cls_exp_sigma in cls_exp:\n",
    "        crossing_test_stats['exp'].append(\n",
    "            np.interp(\n",
    "                test_size, list(reversed(cls_exp_sigma)), list(reversed(test_mus))\n",
    "            )\n",
    "        )\n",
    "    crossing_test_stats['obs'] = np.interp(\n",
    "        test_size, list(reversed(cls_obs)), list(reversed(test_mus))\n",
    "    )\n",
    "    return crossing_test_stats\n",
    "\n",
    "\n",
    "def plot_histo(ax, binning, data):\n",
    "    bin_width = (binning[2] - binning[1]) / binning[0]\n",
    "    bin_leftedges = np.linspace(binning[1], binning[2], binning[0] + 1)[:-1]\n",
    "    bin_centers = [le + bin_width / 2.0 for le in bin_leftedges]\n",
    "    ax.bar(bin_centers, data, 1, alpha=0.5)\n",
    "\n",
    "\n",
    "def plot_data(ax, binning, data):\n",
    "    errors = [math.sqrt(d) for d in data]\n",
    "    bin_width = (binning[2] - binning[1]) / binning[0]\n",
    "    bin_leftedges = np.linspace(binning[1], binning[2], binning[0] + 1)[:-1]\n",
    "    bin_centers = [le + bin_width / 2.0 for le in bin_leftedges]\n",
    "    ax.bar(\n",
    "        bin_centers,\n",
    "        data,\n",
    "        0,\n",
    "        yerr=errors,\n",
    "        linewidth=0,\n",
    "        error_kw=dict(ecolor='k', elinewidth=1),\n",
    "    )\n",
    "    ax.scatter(bin_centers, data, c='k')"
   ]
  },
  {
   "cell_type": "code",
   "execution_count": null,
   "metadata": {
    "tags": [
     "parameters"
    ]
   },
   "outputs": [],
   "source": [
    "validation_datadir = '../../validation/data'"
   ]
  },
  {
   "cell_type": "code",
   "execution_count": null,
   "metadata": {},
   "outputs": [],
   "source": [
    "source = json.load(open(validation_datadir + '/1bin_example1.json'))\n",
    "pdf = hepdata_like(\n",
    "    source['bindata']['sig'], source['bindata']['bkg'], source['bindata']['bkgerr']\n",
    ")\n",
    "data = source['bindata']['data'] + pdf.config.auxdata\n",
    "\n",
    "init_pars = pdf.config.suggested_init()\n",
    "par_bounds = pdf.config.suggested_bounds()\n",
    "\n",
    "poi_tests = np.linspace(0, 5, 41)\n",
    "tests = [\n",
    "    pyhf.infer.hypotest(\n",
    "        poi_test, data, pdf, init_pars, par_bounds, return_expected_set=True\n",
    "    )\n",
    "    for poi_test in poi_tests\n",
    "]\n",
    "cls_obs = np.array([test[0] for test in tests]).flatten()\n",
    "cls_exp = [np.array([test[1][i] for test in tests]).flatten() for i in range(5)]\n",
    "\n",
    "plot_results(poi_tests, cls_obs, cls_exp, poi_tests)\n",
    "invert_interval(poi_tests, cls_obs, cls_exp)"
   ]
  },
  {
   "cell_type": "code",
   "execution_count": null,
   "metadata": {},
   "outputs": [],
   "source": [
    "source = {\n",
    "    \"binning\": [2, -0.5, 1.5],\n",
    "    \"bindata\": {\n",
    "        \"data\": [120.0, 145.0],\n",
    "        \"bkg\": [100.0, 150.0],\n",
    "        \"bkgerr\": [15.0, 20.0],\n",
    "        \"sig\": [30.0, 45.0],\n",
    "    },\n",
    "}\n",
    "\n",
    "\n",
    "my_observed_counts = source['bindata']['data']\n",
    "\n",
    "pdf = hepdata_like(\n",
    "    source['bindata']['sig'], source['bindata']['bkg'], source['bindata']['bkgerr']\n",
    ")\n",
    "data = my_observed_counts + pdf.config.auxdata\n",
    "\n",
    "\n",
    "binning = source['binning']\n",
    "\n",
    "nompars = pdf.config.suggested_init()\n",
    "\n",
    "\n",
    "bonlypars = [x for x in nompars]\n",
    "bonlypars[pdf.config.poi_index] = 0.0\n",
    "nom_bonly = pdf.expected_data(bonlypars, include_auxdata=False)\n",
    "\n",
    "nom_sb = pdf.expected_data(nompars, include_auxdata=False)\n",
    "\n",
    "init_pars = pdf.config.suggested_init()\n",
    "par_bounds = pdf.config.suggested_bounds()\n",
    "\n",
    "print(init_pars)\n",
    "\n",
    "bestfit_pars = pyhf.infer.mle.fit(data, pdf, init_pars, par_bounds)\n",
    "bestfit_cts = pdf.expected_data(bestfit_pars, include_auxdata=False)"
   ]
  },
  {
   "cell_type": "code",
   "execution_count": null,
   "metadata": {},
   "outputs": [],
   "source": [
    "f, axarr = plt.subplots(1, 3, sharey=True)\n",
    "f.set_size_inches(12, 4)\n",
    "\n",
    "plot_histo(axarr[0], binning, nom_bonly)\n",
    "plot_data(axarr[0], binning, my_observed_counts)\n",
    "axarr[0].set_xlim(binning[1:])\n",
    "\n",
    "plot_histo(axarr[1], binning, nom_sb)\n",
    "plot_data(axarr[1], binning, my_observed_counts)\n",
    "axarr[1].set_xlim(binning[1:])\n",
    "\n",
    "plot_histo(axarr[2], binning, bestfit_cts)\n",
    "plot_data(axarr[2], binning, my_observed_counts)\n",
    "axarr[2].set_xlim(binning[1:])\n",
    "\n",
    "plt.ylim(0, 300);"
   ]
  },
  {
   "cell_type": "code",
   "execution_count": null,
   "metadata": {},
   "outputs": [],
   "source": [
    "##\n",
    "##  DUMMY 2D thing\n",
    "##\n",
    "\n",
    "\n",
    "def signal(m1, m2):\n",
    "    massscale = 150.0\n",
    "    minmass = 100.0\n",
    "    countscale = 2000\n",
    "\n",
    "    effective_mass = np.sqrt(m1 ** 2 + m2 ** 2)\n",
    "    return [countscale * np.exp(-(effective_mass - minmass) / massscale), 0]\n",
    "\n",
    "\n",
    "def CLs(m1, m2):\n",
    "    signal_counts = signal(m1, m2)\n",
    "    pdf = hepdata_like(\n",
    "        signal_counts, source['bindata']['bkg'], source['bindata']['bkgerr']\n",
    "    )\n",
    "    try:\n",
    "        cls_obs, cls_exp_set = pyhf.infer.hypotest(\n",
    "            1.0, data, pdf, init_pars, par_bounds, return_expected_set=True\n",
    "        )\n",
    "        return cls_obs, cls_exp_set, True\n",
    "    except AssertionError:\n",
    "        print(f'fit failed for mass points ({m1}, {m2})')\n",
    "        return None, None, False"
   ]
  },
  {
   "cell_type": "code",
   "execution_count": null,
   "metadata": {},
   "outputs": [],
   "source": [
    "nx, ny = 15, 15\n",
    "grid = grid_x, grid_y = np.mgrid[\n",
    "    100 : 1000 : complex(0, nx), 100 : 1000 : complex(0, ny)\n",
    "]\n",
    "X = grid.T.reshape(nx * ny, 2)\n",
    "results = [CLs(m1, m2) for m1, m2 in X]"
   ]
  },
  {
   "cell_type": "code",
   "execution_count": null,
   "metadata": {},
   "outputs": [],
   "source": [
    "X = np.array([x for x, (_, _, success) in zip(X, results) if success])\n",
    "yobs = np.array([obs for obs, exp, success in results if success]).flatten()\n",
    "yexp = [\n",
    "    np.array([exp[i] for obs, exp, success in results if success]).flatten()\n",
    "    for i in range(5)\n",
    "]"
   ]
  },
  {
   "cell_type": "code",
   "execution_count": null,
   "metadata": {},
   "outputs": [],
   "source": [
    "int_obs = griddata(X, yobs, (grid_x, grid_y), method='linear')\n",
    "\n",
    "int_exp = [griddata(X, yexp[i], (grid_x, grid_y), method='linear') for i in range(5)]\n",
    "\n",
    "plt.contourf(grid_x, grid_y, int_obs, levels=np.linspace(0, 1))\n",
    "plt.colorbar()\n",
    "\n",
    "plt.contour(grid_x, grid_y, int_obs, levels=[0.05], colors='w')\n",
    "for level in int_exp:\n",
    "    plt.contour(grid_x, grid_y, level, levels=[0.05], colors='w', linestyles='dashed')\n",
    "\n",
    "plt.scatter(X[:, 0], X[:, 1], c=yobs, vmin=0, vmax=1);"
   ]
  },
  {
   "cell_type": "code",
   "execution_count": null,
   "metadata": {},
   "outputs": [],
   "source": [
    "sb.glue(\"number_2d_successpoints\", len(X))"
   ]
  }
 ],
 "metadata": {
  "kernelspec": {
   "display_name": "Python 3",
   "language": "python",
   "name": "python3"
  },
  "language_info": {
   "codemirror_mode": {
    "name": "ipython",
    "version": 3
   },
   "file_extension": ".py",
   "mimetype": "text/x-python",
   "name": "python",
   "nbconvert_exporter": "python",
   "pygments_lexer": "ipython3",
   "version": "3.7.5"
  }
 },
 "nbformat": 4,
 "nbformat_minor": 4
}
