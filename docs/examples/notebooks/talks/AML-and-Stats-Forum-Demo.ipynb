{
 "cells": [
  {
   "cell_type": "markdown",
   "metadata": {},
   "source": [
    "# `pyhf` Demo"
   ]
  },
  {
   "cell_type": "markdown",
   "metadata": {},
   "source": [
    "# Hello World, `pyhf` style"
   ]
  },
  {
   "cell_type": "markdown",
   "metadata": {},
   "source": [
    "**Two bin counting experiment with a background uncertainty:**"
   ]
  },
  {
   "cell_type": "code",
   "execution_count": 1,
   "metadata": {},
   "outputs": [],
   "source": [
    "import pyhf\n",
    "import pyhf.simplemodels\n",
    "import pyhf.utils"
   ]
  },
  {
   "cell_type": "code",
   "execution_count": 2,
   "metadata": {},
   "outputs": [
    {
     "name": "stdout",
     "output_type": "stream",
     "text": [
      "Observed: [0.05290116] Expected: [0.06445521]\n"
     ]
    },
    {
     "name": "stderr",
     "output_type": "stream",
     "text": [
      "/home/mcf/Code/GitHub/pyhf/pyhf/tensor/numpy_backend.py:92: RuntimeWarning: divide by zero encountered in log\n",
      "  return np.log(tensor_in)\n",
      "/home/mcf/Code/GitHub/pyhf/pyhf/tensor/numpy_backend.py:185: RuntimeWarning: divide by zero encountered in log\n",
      "  return np.exp((np.log(lam) * n) - lam - gammaln(n + 1.))\n"
     ]
    }
   ],
   "source": [
    "pdf = pyhf.simplemodels.hepdata_like(signal_data=[12.,11.], bkg_data=[50.,52.], bkg_uncerts=[3.,7.])\n",
    "*_, CLs_obs,CLs_exp = pyhf.utils.runOnePoint(1.0, [51., 48.] + pdf.config.auxdata, pdf)\n",
    "print('Observed: {} Expected: {}'.format(CLs_obs, CLs_exp[2]))\n",
    "numpy_results = CLs_obs, CLs_exp[2]"
   ]
  },
  {
   "cell_type": "markdown",
   "metadata": {},
   "source": [
    "**What backend is being used?**"
   ]
  },
  {
   "cell_type": "code",
   "execution_count": 3,
   "metadata": {},
   "outputs": [
    {
     "data": {
      "text/plain": [
       "(<pyhf.tensor.numpy_backend.numpy_backend at 0x7f9ea3858518>,\n",
       " <pyhf.optimize.opt_scipy.scipy_optimizer at 0x7f9ea38584e0>)"
      ]
     },
     "execution_count": 3,
     "metadata": {},
     "output_type": "execute_result"
    }
   ],
   "source": [
    "pyhf.get_backend()"
   ]
  },
  {
   "cell_type": "markdown",
   "metadata": {},
   "source": [
    "**Switch out to a different backend**"
   ]
  },
  {
   "cell_type": "code",
   "execution_count": 4,
   "metadata": {},
   "outputs": [],
   "source": [
    "# TensorFlow\n",
    "import tensorflow as tf\n",
    "sess = tf.Session()\n",
    "pyhf.set_backend(pyhf.tensor.tensorflow_backend(session=sess))"
   ]
  },
  {
   "cell_type": "code",
   "execution_count": 5,
   "metadata": {},
   "outputs": [
    {
     "data": {
      "text/plain": [
       "(<pyhf.tensor.tensorflow_backend.tensorflow_backend at 0x7f9e5ab44ac8>,\n",
       " <pyhf.optimize.opt_tflow.tflow_optimizer at 0x7f9e5ab44828>)"
      ]
     },
     "execution_count": 5,
     "metadata": {},
     "output_type": "execute_result"
    }
   ],
   "source": [
    "pyhf.get_backend()"
   ]
  },
  {
   "cell_type": "markdown",
   "metadata": {},
   "source": [
    "**and reproduce the same result as with the NumPy backend**"
   ]
  },
  {
   "cell_type": "code",
   "execution_count": 6,
   "metadata": {},
   "outputs": [
    {
     "name": "stderr",
     "output_type": "stream",
     "text": [
      "/home/mcf/miniconda3/envs/pyhf/lib/python3.6/site-packages/tensorflow/python/util/tf_inspect.py:75: DeprecationWarning: inspect.getargspec() is deprecated, use inspect.signature() or inspect.getfullargspec()\n",
      "  return _inspect.getargspec(target)\n"
     ]
    },
    {
     "name": "stdout",
     "output_type": "stream",
     "text": [
      "WARNING:tensorflow:From /home/mcf/Code/GitHub/pyhf/pyhf/tensor/tensorflow_backend.py:230: Poisson.__init__ (from tensorflow.contrib.distributions.python.ops.poisson) is deprecated and will be removed after 2018-10-01.\n",
      "Instructions for updating:\n",
      "The TensorFlow Distributions library has moved to TensorFlow Probability (https://github.com/tensorflow/probability). You should update all references to use `tfp.distributions` instead of `tf.contrib.distributions`.\n",
      "Observed: [0.05257819] Expected: [0.0644623]\n"
     ]
    }
   ],
   "source": [
    "*_, CLs_obs,CLs_exp = pyhf.utils.runOnePoint(1.0, [51., 48.] + pdf.config.auxdata, pdf)\n",
    "print('Observed: {} Expected: {}'.format(sess.run(CLs_obs), sess.run(CLs_exp[2])))\n",
    "tensorflow_results = sess.run(CLs_obs), sess.run(CLs_exp[2])"
   ]
  },
  {
   "cell_type": "code",
   "execution_count": 7,
   "metadata": {},
   "outputs": [],
   "source": [
    "# PyTorch\n",
    "pyhf.set_backend(pyhf.tensor.pytorch_backend())"
   ]
  },
  {
   "cell_type": "code",
   "execution_count": 8,
   "metadata": {},
   "outputs": [
    {
     "data": {
      "text/plain": [
       "(<pyhf.tensor.pytorch_backend.pytorch_backend at 0x7f9e402fcb00>,\n",
       " <pyhf.optimize.opt_pytorch.pytorch_optimizer at 0x7f9e88151cf8>)"
      ]
     },
     "execution_count": 8,
     "metadata": {},
     "output_type": "execute_result"
    }
   ],
   "source": [
    "pyhf.get_backend()"
   ]
  },
  {
   "cell_type": "code",
   "execution_count": 9,
   "metadata": {},
   "outputs": [
    {
     "name": "stdout",
     "output_type": "stream",
     "text": [
      "Observed: 0.05262800306081772 Expected: 0.06449270248413086\n"
     ]
    }
   ],
   "source": [
    "*_, CLs_obs,CLs_exp = pyhf.utils.runOnePoint(1.0, [51., 48.] + pdf.config.auxdata, pdf)\n",
    "print('Observed: {} Expected: {}'.format(CLs_obs[0], CLs_exp[2]))\n",
    "pytorch_results = CLs_obs[0], CLs_exp[2]"
   ]
  },
  {
   "cell_type": "markdown",
   "metadata": {},
   "source": [
    "**A comparison of the three:**"
   ]
  },
  {
   "cell_type": "code",
   "execution_count": 10,
   "metadata": {},
   "outputs": [
    {
     "name": "stdout",
     "output_type": "stream",
     "text": [
      "\n",
      "# NumPy\n",
      "Observed: [0.05290116] Expected: [0.06445521]\n",
      "\n",
      "# TensorFlow\n",
      "Observed: [0.05257819] Expected: [0.0644623]\n",
      "\n",
      "# PyTorch\n",
      "Observed: 0.05262800306081772 Expected: 0.06449270248413086\n"
     ]
    }
   ],
   "source": [
    "backends = ['NumPy', 'TensorFlow', 'PyTorch']\n",
    "results = [numpy_results, tensorflow_results, pytorch_results]\n",
    "for backend, result in zip(backends, results):\n",
    "    print('\\n# {}\\nObserved: {} Expected: {}'.format(backend, result[0], result[1]))"
   ]
  },
  {
   "cell_type": "markdown",
   "metadata": {},
   "source": [
    "# $CL_{s}$ Example using pyhf CLI"
   ]
  },
  {
   "cell_type": "markdown",
   "metadata": {},
   "source": [
    "**Use some preexisiting files**"
   ]
  },
  {
   "cell_type": "code",
   "execution_count": 11,
   "metadata": {},
   "outputs": [
    {
     "name": "stdout",
     "output_type": "stream",
     "text": [
      "\u001b[0m\u001b[00mdemo.json\u001b[0m  \u001b[00mnew_signal.json\u001b[0m\r\n"
     ]
    }
   ],
   "source": [
    "# Use some shell magics in Jupyter\n",
    "% ls *.json"
   ]
  },
  {
   "cell_type": "code",
   "execution_count": 12,
   "metadata": {},
   "outputs": [
    {
     "name": "stdout",
     "output_type": "stream",
     "text": [
      "{\r\n",
      "    \"channels\": [{\r\n",
      "        \"name\": \"singlechannel\",\r\n",
      "        \"samples\": [{\r\n",
      "                \"name\": \"sig\",\r\n",
      "                \"data\": [12.0, 11.0],\r\n",
      "                \"modifiers\": [{\r\n",
      "                    \"name\": \"mu\",\r\n",
      "                    \"data\": null,\r\n",
      "                    \"type\": \"normfactor\"\r\n",
      "                }]\r\n",
      "            },\r\n",
      "            {\r\n",
      "                \"name\": \"bkg\",\r\n",
      "                \"data\": [50.0, 52.0],\r\n",
      "                \"modifiers\": [{\r\n",
      "                    \"name\": \"uncorr_bkguncrt\",\r\n",
      "                    \"data\": [3.0, 7.0],\r\n",
      "                    \"type\": \"shapesys\"\r\n",
      "                }]\r\n",
      "            }\r\n",
      "        ]\r\n",
      "    }],\r\n",
      "    \"data\": {\r\n",
      "        \"singlechannel\": [51.0, 48.0]\r\n",
      "    },\r\n",
      "    \"toplvl\": {\r\n",
      "        \"measurements\": [{\r\n",
      "            \"config\": {\r\n",
      "                \"poi\": \"mu\"\r\n",
      "            },\r\n",
      "            \"name\": \"singlechannel\"\r\n",
      "        }]\r\n",
      "    }\r\n",
      "}\r\n"
     ]
    }
   ],
   "source": [
    "% cat demo.json"
   ]
  },
  {
   "cell_type": "code",
   "execution_count": 13,
   "metadata": {},
   "outputs": [
    {
     "name": "stdout",
     "output_type": "stream",
     "text": [
      "/home/mcf/Code/GitHub/pyhf/pyhf/tensor/numpy_backend.py:92: RuntimeWarning: divide by zero encountered in log\n",
      "  return np.log(tensor_in)\n",
      "/home/mcf/Code/GitHub/pyhf/pyhf/tensor/numpy_backend.py:185: RuntimeWarning: divide by zero encountered in log\n",
      "  return np.exp((np.log(lam) * n) - lam - gammaln(n + 1.))\n",
      "{\n",
      "    \"CLs_exp\": [\n",
      "        0.002606408505279359,\n",
      "        0.013820656047622592,\n",
      "        0.0644552079856191,\n",
      "        0.23526102499555396,\n",
      "        0.573041803728844\n",
      "    ],\n",
      "    \"CLs_obs\": 0.05290116065118097\n",
      "}\n"
     ]
    }
   ],
   "source": [
    "# Use more shell magics to run from the command line\n",
    "! pyhf cls demo.json"
   ]
  },
  {
   "cell_type": "markdown",
   "metadata": {},
   "source": [
    "**Can also pipe a file to `pyhf` (think [HEPData](https://hepdata.net/))**"
   ]
  },
  {
   "cell_type": "code",
   "execution_count": 14,
   "metadata": {},
   "outputs": [
    {
     "name": "stdout",
     "output_type": "stream",
     "text": [
      "https://raw.githubusercontent.com/diana-hep/pyhf/talk/AML-and-stats-forum-meeting/docs/examples/notebooks/talks/demo.json\r\n"
     ]
    }
   ],
   "source": [
    "json_url=\"https://raw.githubusercontent.com/diana-hep/pyhf/talk/AML-and-stats-forum-meeting/docs/examples/notebooks/talks/demo.json\"\n",
    "! echo \"{json_url}\""
   ]
  },
  {
   "cell_type": "code",
   "execution_count": 15,
   "metadata": {},
   "outputs": [
    {
     "name": "stdout",
     "output_type": "stream",
     "text": [
      "  % Total    % Received % Xferd  Average Speed   Time    Time     Time  Current\n",
      "                                 Dload  Upload   Total   Spent    Left  Speed\n",
      "100   836  100   836    0     0   4074      0 --:--:-- --:--:-- --:--:--  4078\n",
      "/home/mcf/Code/GitHub/pyhf/pyhf/tensor/numpy_backend.py:92: RuntimeWarning: divide by zero encountered in log\n",
      "  return np.log(tensor_in)\n",
      "/home/mcf/Code/GitHub/pyhf/pyhf/tensor/numpy_backend.py:185: RuntimeWarning: divide by zero encountered in log\n",
      "  return np.exp((np.log(lam) * n) - lam - gammaln(n + 1.))\n",
      "{\n",
      "    \"CLs_exp\": [\n",
      "        0.002606408505279359,\n",
      "        0.013820656047622592,\n",
      "        0.0644552079856191,\n",
      "        0.23526102499555396,\n",
      "        0.573041803728844\n",
      "    ],\n",
      "    \"CLs_obs\": 0.05290116065118097\n",
      "}\n"
     ]
    }
   ],
   "source": [
    "! curl \"{json_url}\" | pyhf cls"
   ]
  },
  {
   "cell_type": "markdown",
   "metadata": {},
   "source": [
    "# $CL_{s}$ with Reinterpretation"
   ]
  },
  {
   "cell_type": "markdown",
   "metadata": {},
   "source": [
    "**Original output**"
   ]
  },
  {
   "cell_type": "code",
   "execution_count": 16,
   "metadata": {},
   "outputs": [
    {
     "name": "stdout",
     "output_type": "stream",
     "text": [
      "/home/mcf/Code/GitHub/pyhf/pyhf/tensor/numpy_backend.py:92: RuntimeWarning: divide by zero encountered in log\n",
      "  return np.log(tensor_in)\n",
      "/home/mcf/Code/GitHub/pyhf/pyhf/tensor/numpy_backend.py:185: RuntimeWarning: divide by zero encountered in log\n",
      "  return np.exp((np.log(lam) * n) - lam - gammaln(n + 1.))\n",
      "\u001b[0;39m0.05290116065118097\u001b[0m\n"
     ]
    }
   ],
   "source": [
    "! pyhf cls demo.json | jq .CLs_obs"
   ]
  },
  {
   "cell_type": "markdown",
   "metadata": {},
   "source": [
    "**Consider a new signal to test**"
   ]
  },
  {
   "cell_type": "code",
   "execution_count": 17,
   "metadata": {},
   "outputs": [
    {
     "name": "stdout",
     "output_type": "stream",
     "text": [
      "[{\r\n",
      "    \"op\": \"replace\",\r\n",
      "    \"path\": \"/channels/0/samples/0/data\",\r\n",
      "    \"value\": [5.0, 6.0]\r\n",
      "}]\r\n"
     ]
    }
   ],
   "source": [
    "% cat new_signal.json"
   ]
  },
  {
   "cell_type": "markdown",
   "metadata": {},
   "source": [
    "**Apply the patch with the new signal to update the likelihood: $L \\to L'$**"
   ]
  },
  {
   "cell_type": "code",
   "execution_count": 18,
   "metadata": {},
   "outputs": [
    {
     "name": "stdout",
     "output_type": "stream",
     "text": [
      "/home/mcf/Code/GitHub/pyhf/pyhf/tensor/numpy_backend.py:185: RuntimeWarning: divide by zero encountered in log\n",
      "  return np.exp((np.log(lam) * n) - lam - gammaln(n + 1.))\n",
      "/home/mcf/Code/GitHub/pyhf/pyhf/tensor/numpy_backend.py:92: RuntimeWarning: divide by zero encountered in log\n",
      "  return np.log(tensor_in)\n",
      "\u001b[0;39m0.3401578753020146\u001b[0m\n"
     ]
    }
   ],
   "source": [
    "! pyhf cls demo.json --patch new_signal.json | jq .CLs_obs"
   ]
  }
 ],
 "metadata": {
  "kernelspec": {
   "display_name": "Python 3",
   "language": "python",
   "name": "python3"
  },
  "language_info": {
   "codemirror_mode": {
    "name": "ipython",
    "version": 3
   },
   "file_extension": ".py",
   "mimetype": "text/x-python",
   "name": "python",
   "nbconvert_exporter": "python",
   "pygments_lexer": "ipython3",
   "version": "3.6.6"
  }
 },
 "nbformat": 4,
 "nbformat_minor": 2
}
