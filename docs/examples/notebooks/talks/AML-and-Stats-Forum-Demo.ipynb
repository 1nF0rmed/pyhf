{
 "cells": [
  {
   "cell_type": "markdown",
   "metadata": {},
   "source": [
    "# `pyhf` Demo"
   ]
  },
  {
   "cell_type": "markdown",
   "metadata": {},
   "source": [
    "# Hello World, `pyhf` style"
   ]
  },
  {
   "cell_type": "markdown",
   "metadata": {},
   "source": [
    "Two bin counting experiment with a background uncertainty:"
   ]
  },
  {
   "cell_type": "code",
   "execution_count": 1,
   "metadata": {},
   "outputs": [],
   "source": [
    "import pyhf\n",
    "import pyhf.simplemodels\n",
    "import pyhf.utils"
   ]
  },
  {
   "cell_type": "code",
   "execution_count": 2,
   "metadata": {},
   "outputs": [
    {
     "name": "stdout",
     "output_type": "stream",
     "text": [
      "Observed: [0.05290116] Expected: [0.06445521]\n"
     ]
    },
    {
     "name": "stderr",
     "output_type": "stream",
     "text": [
      "/home/mcf/Code/GitHub/pyhf/pyhf/tensor/numpy_backend.py:89: RuntimeWarning: divide by zero encountered in log\n",
      "  return np.log(tensor_in)\n",
      "/home/mcf/Code/GitHub/pyhf/pyhf/tensor/numpy_backend.py:163: RuntimeWarning: divide by zero encountered in log\n",
      "  return np.exp(n*np.log(lam)-lam-gammaln(n+1.))\n"
     ]
    }
   ],
   "source": [
    "pdf = pyhf.simplemodels.hepdata_like(signal_data=[12.,11.], bkg_data=[50.,52.], bkg_uncerts=[3.,7.])\n",
    "*_, CLs_obs,CLs_exp = pyhf.utils.runOnePoint(1.0, [51., 48.] + pdf.config.auxdata, pdf)\n",
    "print('Observed: {} Expected: {}'.format(CLs_obs, CLs_exp[2]))"
   ]
  },
  {
   "cell_type": "markdown",
   "metadata": {},
   "source": [
    "What backend is being used?"
   ]
  },
  {
   "cell_type": "code",
   "execution_count": 3,
   "metadata": {},
   "outputs": [
    {
     "data": {
      "text/plain": [
       "(<pyhf.tensor.numpy_backend.numpy_backend at 0x7f8e685c92e8>,\n",
       " <pyhf.optimize.opt_scipy.scipy_optimizer at 0x7f8e685c9400>)"
      ]
     },
     "execution_count": 3,
     "metadata": {},
     "output_type": "execute_result"
    }
   ],
   "source": [
    "pyhf.get_backend()"
   ]
  },
  {
   "cell_type": "markdown",
   "metadata": {},
   "source": [
    "Switch out to a different backend"
   ]
  },
  {
   "cell_type": "code",
   "execution_count": 4,
   "metadata": {},
   "outputs": [],
   "source": [
    "# TensorFlow\n",
    "import tensorflow as tf\n",
    "sess = tf.Session()\n",
    "pyhf.set_backend(pyhf.tensor.tensorflow_backend(session=sess))"
   ]
  },
  {
   "cell_type": "code",
   "execution_count": 5,
   "metadata": {},
   "outputs": [
    {
     "data": {
      "text/plain": [
       "(<pyhf.tensor.tensorflow_backend.tensorflow_backend at 0x7f8e1856f4a8>,\n",
       " <pyhf.optimize.opt_tflow.tflow_optimizer at 0x7f8e1856f358>)"
      ]
     },
     "execution_count": 5,
     "metadata": {},
     "output_type": "execute_result"
    }
   ],
   "source": [
    "pyhf.get_backend()"
   ]
  },
  {
   "cell_type": "markdown",
   "metadata": {},
   "source": [
    "and reproduce the same result as with the NumPy backend"
   ]
  },
  {
   "cell_type": "code",
   "execution_count": 6,
   "metadata": {},
   "outputs": [
    {
     "name": "stdout",
     "output_type": "stream",
     "text": [
      "Observed: [0.04967977] Expected: [0.06119907]\n"
     ]
    }
   ],
   "source": [
    "*_, CLs_obs,CLs_exp = pyhf.utils.runOnePoint(1.0, [51., 48.] + pdf.config.auxdata, pdf)\n",
    "print('Observed: {} Expected: {}'.format(sess.run(CLs_obs), sess.run(CLs_exp[2])))"
   ]
  },
  {
   "cell_type": "code",
   "execution_count": 7,
   "metadata": {},
   "outputs": [],
   "source": [
    "# PyTorch\n",
    "pyhf.set_backend(pyhf.tensor.pytorch_backend())"
   ]
  },
  {
   "cell_type": "code",
   "execution_count": 8,
   "metadata": {},
   "outputs": [
    {
     "data": {
      "text/plain": [
       "(<pyhf.tensor.pytorch_backend.pytorch_backend at 0x7f8dfe476d68>,\n",
       " <pyhf.optimize.opt_pytorch.pytorch_optimizer at 0x7f8dfe476c88>)"
      ]
     },
     "execution_count": 8,
     "metadata": {},
     "output_type": "execute_result"
    }
   ],
   "source": [
    "pyhf.get_backend()"
   ]
  },
  {
   "cell_type": "code",
   "execution_count": 9,
   "metadata": {},
   "outputs": [
    {
     "name": "stdout",
     "output_type": "stream",
     "text": [
      "Observed: 0.049736496061086655 Expected: 0.061249494552612305\n"
     ]
    }
   ],
   "source": [
    "*_, CLs_obs,CLs_exp = pyhf.utils.runOnePoint(1.0, [51., 48.] + pdf.config.auxdata, pdf)\n",
    "print('Observed: {} Expected: {}'.format(CLs_obs[0], CLs_exp[2]))"
   ]
  },
  {
   "cell_type": "markdown",
   "metadata": {},
   "source": [
    "# $CL_{s}$ Example using pyhf CLI"
   ]
  },
  {
   "cell_type": "markdown",
   "metadata": {},
   "source": [
    "Use some preexisiting files"
   ]
  },
  {
   "cell_type": "code",
   "execution_count": 10,
   "metadata": {},
   "outputs": [
    {
     "name": "stdout",
     "output_type": "stream",
     "text": [
      "\u001b[0m\u001b[00mdemo.json\u001b[0m  \u001b[00mnew_signal.json\u001b[0m\r\n"
     ]
    }
   ],
   "source": [
    "# Use some shell magics in Jupyter\n",
    "% ls *.json"
   ]
  },
  {
   "cell_type": "code",
   "execution_count": 11,
   "metadata": {},
   "outputs": [
    {
     "name": "stdout",
     "output_type": "stream",
     "text": [
      "{\r\n",
      "    \"channels\": [{\r\n",
      "        \"name\": \"singlechannel\",\r\n",
      "        \"samples\": [{\r\n",
      "                \"name\": \"sig\",\r\n",
      "                \"data\": [12.0, 11.0],\r\n",
      "                \"modifiers\": [{\r\n",
      "                    \"name\": \"mu\",\r\n",
      "                    \"data\": null,\r\n",
      "                    \"type\": \"normfactor\"\r\n",
      "                }]\r\n",
      "            },\r\n",
      "            {\r\n",
      "                \"name\": \"bkg\",\r\n",
      "                \"data\": [50.0, 52.0],\r\n",
      "                \"modifiers\": [{\r\n",
      "                    \"name\": \"uncorr_bkguncrt\",\r\n",
      "                    \"data\": [3.0, 7.0],\r\n",
      "                    \"type\": \"shapesys\"\r\n",
      "                }]\r\n",
      "            }\r\n",
      "        ]\r\n",
      "    }],\r\n",
      "    \"data\": {\r\n",
      "        \"singlechannel\": [51.0, 48.0]\r\n",
      "    },\r\n",
      "    \"toplvl\": {\r\n",
      "        \"measurements\": [{\r\n",
      "            \"config\": {\r\n",
      "                \"poi\": \"mu\"\r\n",
      "            },\r\n",
      "            \"name\": \"singlechannel\"\r\n",
      "        }]\r\n",
      "    }\r\n",
      "}\r\n"
     ]
    }
   ],
   "source": [
    "% cat demo.json"
   ]
  },
  {
   "cell_type": "code",
   "execution_count": 12,
   "metadata": {},
   "outputs": [
    {
     "name": "stdout",
     "output_type": "stream",
     "text": [
      "/home/mcf/Code/GitHub/pyhf/pyhf/tensor/numpy_backend.py:89: RuntimeWarning: divide by zero encountered in log\n",
      "  return np.log(tensor_in)\n",
      "/home/mcf/Code/GitHub/pyhf/pyhf/tensor/numpy_backend.py:163: RuntimeWarning: divide by zero encountered in log\n",
      "  return np.exp(n*np.log(lam)-lam-gammaln(n+1.))\n",
      "{\n",
      "    \"CLs_exp\": [\n",
      "        0.002606408505279359,\n",
      "        0.013820656047622592,\n",
      "        0.0644552079856191,\n",
      "        0.23526102499555396,\n",
      "        0.573041803728844\n",
      "    ],\n",
      "    \"CLs_obs\": 0.05290116065118097\n",
      "}\n"
     ]
    }
   ],
   "source": [
    "# Use more shell magics to run from the command line\n",
    "! pyhf cls demo.json"
   ]
  },
  {
   "cell_type": "markdown",
   "metadata": {},
   "source": [
    "# $CL_{s}$ with Reinterpretation"
   ]
  },
  {
   "cell_type": "markdown",
   "metadata": {},
   "source": [
    "Original output"
   ]
  },
  {
   "cell_type": "code",
   "execution_count": 13,
   "metadata": {},
   "outputs": [
    {
     "name": "stdout",
     "output_type": "stream",
     "text": [
      "/home/mcf/Code/GitHub/pyhf/pyhf/tensor/numpy_backend.py:89: RuntimeWarning: divide by zero encountered in log\n",
      "  return np.log(tensor_in)\n",
      "/home/mcf/Code/GitHub/pyhf/pyhf/tensor/numpy_backend.py:163: RuntimeWarning: divide by zero encountered in log\n",
      "  return np.exp(n*np.log(lam)-lam-gammaln(n+1.))\n",
      "\u001b[0;39m0.05290116065118097\u001b[0m\n"
     ]
    }
   ],
   "source": [
    "! pyhf cls demo.json | jq .CLs_obs"
   ]
  },
  {
   "cell_type": "markdown",
   "metadata": {},
   "source": [
    "Consider a new signal to test"
   ]
  },
  {
   "cell_type": "code",
   "execution_count": 14,
   "metadata": {},
   "outputs": [
    {
     "name": "stdout",
     "output_type": "stream",
     "text": [
      "[{\r\n",
      "    \"op\": \"replace\",\r\n",
      "    \"path\": \"/channels/0/samples/0/data\",\r\n",
      "    \"value\": [5.0, 6.0]\r\n",
      "}]\r\n"
     ]
    }
   ],
   "source": [
    "% cat new_signal.json"
   ]
  },
  {
   "cell_type": "markdown",
   "metadata": {},
   "source": [
    "Apply the patch with the new signal to update the likelihood: $L \\to L'$"
   ]
  },
  {
   "cell_type": "code",
   "execution_count": 15,
   "metadata": {},
   "outputs": [
    {
     "name": "stdout",
     "output_type": "stream",
     "text": [
      "/home/mcf/Code/GitHub/pyhf/pyhf/tensor/numpy_backend.py:163: RuntimeWarning: divide by zero encountered in log\n",
      "  return np.exp(n*np.log(lam)-lam-gammaln(n+1.))\n",
      "/home/mcf/Code/GitHub/pyhf/pyhf/tensor/numpy_backend.py:89: RuntimeWarning: divide by zero encountered in log\n",
      "  return np.log(tensor_in)\n",
      "\u001b[0;39m0.3401578753020146\u001b[0m\n"
     ]
    }
   ],
   "source": [
    "! pyhf cls demo.json --patch new_signal.json | jq .CLs_obs"
   ]
  }
 ],
 "metadata": {
  "kernelspec": {
   "display_name": "Python 3",
   "language": "python",
   "name": "python3"
  },
  "language_info": {
   "codemirror_mode": {
    "name": "ipython",
    "version": 3
   },
   "file_extension": ".py",
   "mimetype": "text/x-python",
   "name": "python",
   "nbconvert_exporter": "python",
   "pygments_lexer": "ipython3",
   "version": "3.6.6"
  }
 },
 "nbformat": 4,
 "nbformat_minor": 2
}
