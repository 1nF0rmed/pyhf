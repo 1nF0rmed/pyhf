{
 "cells": [
  {
   "cell_type": "markdown",
   "metadata": {},
   "source": [
    "#### A simple example model for this tutorial"
   ]
  },
  {
   "cell_type": "code",
   "execution_count": 2,
   "metadata": {},
   "outputs": [],
   "source": [
    "import pyhf\n",
    "import numpy as np\n",
    "model = pyhf.simplemodels.hepdata_like([6], [9], [3])\n",
    "data  = [9] + model.config.auxdata"
   ]
  },
  {
   "cell_type": "markdown",
   "metadata": {},
   "source": [
    "## The high-level API\n",
    "\n",
    "If the only thing you are interested in is the hypothesis test result you can\n",
    "just run the high-level API to get it:"
   ]
  },
  {
   "cell_type": "code",
   "execution_count": 3,
   "metadata": {},
   "outputs": [
    {
     "data": {
      "text/plain": [
       "(array([0.16778329]), array([[0.0159666 ],\n",
       "        [0.05465182],\n",
       "        [0.16777638],\n",
       "        [0.41861716],\n",
       "        [0.74962797]]))"
      ]
     },
     "execution_count": 3,
     "metadata": {},
     "output_type": "execute_result"
    }
   ],
   "source": [
    "pyhf.infer.hypotest(1.0,data,model,return_expected_set = True)"
   ]
  },
  {
   "cell_type": "markdown",
   "metadata": {},
   "source": [
    "## Below the surface:\n",
    "\n",
    "Under the hood, the hypothesis test computes *test statistics* and uses *calculators* in order to \n",
    "assess how likely the computed test statistic value is under various hypotheses"
   ]
  },
  {
   "cell_type": "code",
   "execution_count": 5,
   "metadata": {},
   "outputs": [
    {
     "data": {
      "text/plain": [
       "(array([0.16778329]), array([[0.0159666 ],\n",
       "        [0.05465182],\n",
       "        [0.16777638],\n",
       "        [0.41861716],\n",
       "        [0.74962797]]))"
      ]
     },
     "execution_count": 5,
     "metadata": {},
     "output_type": "execute_result"
    }
   ],
   "source": [
    "calc        = pyhf.infer.asymptotics.AsymptoticCalculator(data,model,qtilde = True)\n",
    "dists       = calc.distributions(poi_test = 1.0)\n",
    "teststat    = calc.teststatistic(poi_test = 1.0)\n",
    "\n",
    "pyhf.infer.summarize_hypotest(teststat, dists, return_expected_set = True)"
   ]
  },
  {
   "cell_type": "code",
   "execution_count": null,
   "metadata": {},
   "outputs": [],
   "source": []
  }
 ],
 "metadata": {
  "kernelspec": {
   "display_name": "Python 3",
   "language": "python",
   "name": "python3"
  },
  "language_info": {
   "codemirror_mode": {
    "name": "ipython",
    "version": 3
   },
   "file_extension": ".py",
   "mimetype": "text/x-python",
   "name": "python",
   "nbconvert_exporter": "python",
   "pygments_lexer": "ipython3",
   "version": "3.6.6"
  }
 },
 "nbformat": 4,
 "nbformat_minor": 2
}
