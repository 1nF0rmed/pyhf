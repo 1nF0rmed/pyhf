{
 "cells": [
  {
   "cell_type": "code",
   "execution_count": 1,
   "metadata": {},
   "outputs": [
    {
     "name": "stderr",
     "output_type": "stream",
     "text": [
      "/Users/lukasheinrich/Code/pyhfdev/dev/pyhfdevenv/lib/python3.6/site-packages/pandas/compat/__init__.py:85: UserWarning: Could not import the lzma module. Your installed Python is incomplete. Attempting to use lzma compression will result in a RuntimeError.\n",
      "  warnings.warn(msg)\n",
      "/Users/lukasheinrich/Code/pyhfdev/dev/pyhfdevenv/lib/python3.6/site-packages/pandas/compat/__init__.py:85: UserWarning: Could not import the lzma module. Your installed Python is incomplete. Attempting to use lzma compression will result in a RuntimeError.\n",
      "  warnings.warn(msg)\n"
     ]
    }
   ],
   "source": [
    "import pyhf\n",
    "import pandas\n",
    "import numpy as np\n",
    "import altair as alt\n",
    "# alt.renderers.enable('notebook')"
   ]
  },
  {
   "cell_type": "code",
   "execution_count": 2,
   "metadata": {},
   "outputs": [],
   "source": [
    "m = pyhf.simplemodels.hepdata_like([7],[20],[5])\n",
    "d = [25] + m.config.auxdata"
   ]
  },
  {
   "cell_type": "code",
   "execution_count": 3,
   "metadata": {},
   "outputs": [],
   "source": [
    "muscan = np.linspace(0,5,21)\n",
    "results = [pyhf.infer.hypotest(mu,d,m,return_expected_set = True) for mu in muscan]"
   ]
  },
  {
   "cell_type": "code",
   "execution_count": 4,
   "metadata": {},
   "outputs": [
    {
     "data": {
      "text/html": [
       "<div>\n",
       "<style scoped>\n",
       "    .dataframe tbody tr th:only-of-type {\n",
       "        vertical-align: middle;\n",
       "    }\n",
       "\n",
       "    .dataframe tbody tr th {\n",
       "        vertical-align: top;\n",
       "    }\n",
       "\n",
       "    .dataframe thead th {\n",
       "        text-align: right;\n",
       "    }\n",
       "</style>\n",
       "<table border=\"1\" class=\"dataframe\">\n",
       "  <thead>\n",
       "    <tr style=\"text-align: right;\">\n",
       "      <th></th>\n",
       "      <th>mu</th>\n",
       "      <th>obs</th>\n",
       "      <th>exp_0</th>\n",
       "      <th>exp_1</th>\n",
       "      <th>exp_2</th>\n",
       "      <th>exp_3</th>\n",
       "      <th>exp_4</th>\n",
       "    </tr>\n",
       "  </thead>\n",
       "  <tbody>\n",
       "    <tr>\n",
       "      <th>0</th>\n",
       "      <td>0.00</td>\n",
       "      <td>1.000000</td>\n",
       "      <td>1.000000</td>\n",
       "      <td>1.000000</td>\n",
       "      <td>1.000000</td>\n",
       "      <td>1.000000</td>\n",
       "      <td>1.000000</td>\n",
       "    </tr>\n",
       "    <tr>\n",
       "      <th>1</th>\n",
       "      <td>0.25</td>\n",
       "      <td>0.837810</td>\n",
       "      <td>0.544269</td>\n",
       "      <td>0.671615</td>\n",
       "      <td>0.806411</td>\n",
       "      <td>0.920976</td>\n",
       "      <td>0.982722</td>\n",
       "    </tr>\n",
       "    <tr>\n",
       "      <th>2</th>\n",
       "      <td>0.50</td>\n",
       "      <td>0.726450</td>\n",
       "      <td>0.279981</td>\n",
       "      <td>0.428500</td>\n",
       "      <td>0.623443</td>\n",
       "      <td>0.825621</td>\n",
       "      <td>0.956105</td>\n",
       "    </tr>\n",
       "    <tr>\n",
       "      <th>3</th>\n",
       "      <td>0.75</td>\n",
       "      <td>0.640506</td>\n",
       "      <td>0.136181</td>\n",
       "      <td>0.259526</td>\n",
       "      <td>0.460995</td>\n",
       "      <td>0.717475</td>\n",
       "      <td>0.917542</td>\n",
       "    </tr>\n",
       "    <tr>\n",
       "      <th>4</th>\n",
       "      <td>1.00</td>\n",
       "      <td>0.512530</td>\n",
       "      <td>0.062690</td>\n",
       "      <td>0.149204</td>\n",
       "      <td>0.325505</td>\n",
       "      <td>0.602248</td>\n",
       "      <td>0.865054</td>\n",
       "    </tr>\n",
       "  </tbody>\n",
       "</table>\n",
       "</div>"
      ],
      "text/plain": [
       "     mu       obs     exp_0     exp_1     exp_2     exp_3     exp_4\n",
       "0  0.00  1.000000  1.000000  1.000000  1.000000  1.000000  1.000000\n",
       "1  0.25  0.837810  0.544269  0.671615  0.806411  0.920976  0.982722\n",
       "2  0.50  0.726450  0.279981  0.428500  0.623443  0.825621  0.956105\n",
       "3  0.75  0.640506  0.136181  0.259526  0.460995  0.717475  0.917542\n",
       "4  1.00  0.512530  0.062690  0.149204  0.325505  0.602248  0.865054"
      ]
     },
     "execution_count": 4,
     "metadata": {},
     "output_type": "execute_result"
    }
   ],
   "source": [
    "data = np.concatenate([\n",
    "    muscan.reshape(-1,1),\n",
    "    np.asarray([r[0] for r in results]).reshape(-1,1),\n",
    "    np.asarray([r[1] for r in results]).reshape(-1,5)\n",
    "],axis=1\n",
    ")\n",
    "df = pandas.DataFrame(data, columns = ['mu','obs'] + [f'exp_{i}' for i in range(5)])\n",
    "df.head()"
   ]
  },
  {
   "cell_type": "code",
   "execution_count": 5,
   "metadata": {},
   "outputs": [
    {
     "data": {
      "text/html": [
       "\n",
       "<div id=\"altair-viz-1\"></div>\n",
       "<script type=\"text/javascript\">\n",
       "  (function(spec, embedOpt){\n",
       "    const outputDiv = document.getElementById(\"altair-viz-1\");\n",
       "    const paths = {\n",
       "      \"vega\": \"https://cdn.jsdelivr.net/npm//vega@5?noext\",\n",
       "      \"vega-lib\": \"https://cdn.jsdelivr.net/npm//vega-lib?noext\",\n",
       "      \"vega-lite\": \"https://cdn.jsdelivr.net/npm//vega-lite@4.0.0?noext\",\n",
       "      \"vega-embed\": \"https://cdn.jsdelivr.net/npm//vega-embed@6?noext\",\n",
       "    };\n",
       "\n",
       "    function loadScript(lib) {\n",
       "      return new Promise(function(resolve, reject) {\n",
       "        var s = document.createElement('script');\n",
       "        s.src = paths[lib];\n",
       "        s.async = true;\n",
       "        s.onload = () => resolve(paths[lib]);\n",
       "        s.onerror = () => reject(`Error loading script: ${paths[lib]}`);\n",
       "        document.getElementsByTagName(\"head\")[0].appendChild(s);\n",
       "      });\n",
       "    }\n",
       "\n",
       "    function showError(err) {\n",
       "      outputDiv.innerHTML = `<div class=\"error\" style=\"color:red;\">${err}</div>`;\n",
       "      throw err;\n",
       "    }\n",
       "\n",
       "    function displayChart(vegaEmbed) {\n",
       "      vegaEmbed(outputDiv, spec, embedOpt)\n",
       "        .catch(err => showError(`Javascript Error: ${err.message}<br>This usually means there's a typo in your chart specification. See the javascript console for the full traceback.`));\n",
       "    }\n",
       "\n",
       "    if(typeof define === \"function\" && define.amd) {\n",
       "      requirejs.config({paths});\n",
       "      require([\"vega-embed\"], displayChart, err => showError(`Error loading script: ${err.message}`));\n",
       "    } else if (typeof vegaEmbed === \"function\") {\n",
       "      displayChart(vegaEmbed);\n",
       "    } else {\n",
       "      loadScript(\"vega\")\n",
       "        .then(() => loadScript(\"vega-lite\"))\n",
       "        .then(() => loadScript(\"vega-embed\"))\n",
       "        .catch(showError)\n",
       "        .then(() => displayChart(vegaEmbed));\n",
       "    }\n",
       "  })({\"config\": {\"view\": {\"continuousWidth\": 400, \"continuousHeight\": 300}}, \"layer\": [{\"mark\": {\"type\": \"area\", \"color\": \"yellow\", \"opacity\": 0.5}, \"encoding\": {\"x\": {\"type\": \"quantitative\", \"field\": \"mu\"}, \"y\": {\"type\": \"quantitative\", \"field\": \"exp_0\"}, \"y2\": {\"field\": \"exp_4\"}}}, {\"mark\": {\"type\": \"area\", \"color\": \"green\", \"opacity\": 0.5}, \"encoding\": {\"x\": {\"type\": \"quantitative\", \"field\": \"mu\"}, \"y\": {\"type\": \"quantitative\", \"field\": \"exp_1\"}, \"y2\": {\"field\": \"exp_3\"}}}, {\"mark\": {\"type\": \"line\", \"color\": \"black\"}, \"encoding\": {\"x\": {\"type\": \"quantitative\", \"field\": \"mu\"}, \"y\": {\"type\": \"quantitative\", \"field\": \"obs\"}}}, {\"mark\": {\"type\": \"line\", \"color\": \"black\", \"strokeDash\": [5, 5]}, \"encoding\": {\"x\": {\"type\": \"quantitative\", \"field\": \"mu\"}, \"y\": {\"type\": \"quantitative\", \"field\": \"exp_2\"}}}, {\"mark\": {\"type\": \"point\", \"color\": \"black\"}, \"encoding\": {\"opacity\": {\"condition\": {\"value\": 1, \"selection\": \"selector001\"}, \"value\": 0}, \"x\": {\"type\": \"quantitative\", \"field\": \"mu\"}, \"y\": {\"type\": \"quantitative\", \"field\": \"obs\"}}, \"selection\": {\"selector001\": {\"type\": \"single\", \"nearest\": true, \"on\": \"mouseover\", \"fields\": [\"mu\"], \"empty\": \"none\"}}}, {\"mark\": {\"type\": \"text\", \"align\": \"left\", \"dx\": 5, \"dy\": -5}, \"encoding\": {\"text\": {\"condition\": {\"type\": \"quantitative\", \"field\": \"obs\", \"selection\": \"selector001\"}, \"value\": \" \"}, \"x\": {\"type\": \"quantitative\", \"field\": \"mu\"}, \"y\": {\"type\": \"quantitative\", \"field\": \"obs\"}}}], \"data\": {\"name\": \"data-fe612dbbf0ac4adda351a7cf0862d34d\"}, \"$schema\": \"https://vega.github.io/schema/vega-lite/v4.0.0.json\", \"datasets\": {\"data-fe612dbbf0ac4adda351a7cf0862d34d\": [{\"mu\": 0.0, \"obs\": 1.0, \"exp_0\": 1.0, \"exp_1\": 1.0, \"exp_2\": 1.0, \"exp_3\": 1.0, \"exp_4\": 1.0}, {\"mu\": 0.25, \"obs\": 0.8378096299305358, \"exp_0\": 0.5442694044651243, \"exp_1\": 0.6716146513333505, \"exp_2\": 0.8064114277572678, \"exp_3\": 0.9209757058416219, \"exp_4\": 0.9827224401413293}, {\"mu\": 0.5, \"obs\": 0.7264498712405358, \"exp_0\": 0.27998138755408064, \"exp_1\": 0.42849971835319905, \"exp_2\": 0.6234425256455327, \"exp_3\": 0.8256209575423804, \"exp_4\": 0.9561050287455932}, {\"mu\": 0.75, \"obs\": 0.6405055368447073, \"exp_0\": 0.13618118280555075, \"exp_1\": 0.2595255330893457, \"exp_2\": 0.46099488831256796, \"exp_3\": 0.7174751255146072, \"exp_4\": 0.9175419399957604}, {\"mu\": 1.0, \"obs\": 0.5125304270010567, \"exp_0\": 0.0626904802521636, \"exp_1\": 0.14920436559616973, \"exp_2\": 0.32550469199506793, \"exp_3\": 0.6022482617502375, \"exp_4\": 0.8650537048557699}, {\"mu\": 1.25, \"obs\": 0.39313675125611297, \"exp_0\": 0.027354571751489205, \"exp_1\": 0.0814680756667746, \"exp_2\": 0.21927895780074402, \"exp_3\": 0.4868980452870216, \"exp_4\": 0.7979639735334577}, {\"mu\": 1.5, \"obs\": 0.28850571940472014, \"exp_0\": 0.011335313392105258, \"exp_1\": 0.04229172507953542, \"exp_2\": 0.14090342799131003, \"exp_3\": 0.3783325909364689, \"exp_4\": 0.7174207460633659}, {\"mu\": 1.75, \"obs\": 0.20232158186519658, \"exp_0\": 0.004470795554414463, \"exp_1\": 0.02090388458683782, \"exp_2\": 0.08639510574461008, \"exp_3\": 0.28215373597643245, \"exp_4\": 0.6265358891264305}, {\"mu\": 2.0, \"obs\": 0.13551931174349952, \"exp_0\": 0.0016824876380343687, \"exp_1\": 0.0098556186474845, \"exp_2\": 0.050590067811418976, \"exp_3\": 0.20182432855701313, \"exp_4\": 0.5300281827224042}, {\"mu\": 2.25, \"obs\": 0.08671421995547036, \"exp_0\": 0.0006057020109163105, \"exp_1\": 0.004441266893923891, \"exp_2\": 0.028325568756002343, \"exp_3\": 0.13844992577407703, \"exp_4\": 0.43343911634755933}, {\"mu\": 2.5, \"obs\": 0.053038000163233304, \"exp_0\": 0.0002091466323842012, \"exp_1\": 0.001917069892070275, \"exp_2\": 0.015187220412412902, \"exp_3\": 0.09111924168784799, \"exp_4\": 0.3421519688382553}, {\"mu\": 2.75, \"obs\": 0.031041404381604663, \"exp_0\": 6.944871763171468e-05, \"exp_1\": 0.0007944171748552271, \"exp_2\": 0.007810804374815055, \"exp_3\": 0.057578166602277395, \"exp_4\": 0.26050841198969554}, {\"mu\": 3.0, \"obs\": 0.01740727489181256, \"exp_0\": 2.2233425623888197e-05, \"exp_1\": 0.000316748372146584, \"exp_2\": 0.0038602287451168543, \"exp_3\": 0.034969715356889884, \"exp_4\": 0.19125502328370977}, {\"mu\": 3.25, \"obs\": 0.009367475710438276, \"exp_0\": 6.879230715751862e-06, \"exp_1\": 0.00012178539507566535, \"exp_2\": 0.001836693497737946, \"exp_3\": 0.020438873455555565, \"exp_4\": 0.13541111100306072}, {\"mu\": 3.5, \"obs\": 0.004845522813850621, \"exp_0\": 2.0619235097908088e-06, \"exp_1\": 4.5250294941424645e-05, \"exp_2\": 0.0008429030611470179, \"exp_3\": 0.011512096677548043, \"exp_4\": 0.09250249601161471}, {\"mu\": 3.75, \"obs\": 0.002413455851038171, \"exp_0\": 6.000008659078549e-07, \"exp_1\": 1.6281114905245724e-05, \"exp_2\": 0.00037379722088239987, \"exp_3\": 0.006257783142186358, \"exp_4\": 0.061013685068299836}, {\"mu\": 4.0, \"obs\": 0.001159533113270782, \"exp_0\": 1.6984882806749173e-07, \"exp_1\": 5.683676816349905e-06, \"exp_2\": 0.00016046881277834407, \"exp_3\": 0.003287808420561576, \"exp_4\": 0.038893035179116686}, {\"mu\": 4.25, \"obs\": 0.000538308176790541, \"exp_0\": 4.6862611461546214e-08, \"exp_1\": 1.928656067027432e-06, \"exp_2\": 6.680224072056321e-05, \"exp_3\": 0.0016721103437330185, \"exp_4\": 0.023984878955947163}, {\"mu\": 4.5, \"obs\": 0.00024189413423711276, \"exp_0\": 1.2624215091510698e-08, \"exp_1\": 6.372482224219285e-07, \"exp_2\": 2.7011783476803636e-05, \"exp_3\": 0.0008244022733887426, \"exp_4\": 0.014325474656585256}, {\"mu\": 4.75, \"obs\": 0.00010538638684531081, \"exp_0\": 3.325820897002789e-09, \"exp_1\": 2.053479923334729e-07, \"exp_2\": 1.0625694052573938e-05, \"exp_3\": 0.00039459933903500215, \"exp_4\": 0.008296406826609029}, {\"mu\": 5.0, \"obs\": 4.458589445518509e-05, \"exp_0\": 8.581372012596285e-10, \"exp_1\": 6.46326054140823e-08, \"exp_2\": 4.07235166843101e-06, \"exp_3\": 0.0001836207375703008, \"exp_4\": 0.004664350843660228}]}}, {\"mode\": \"vega-lite\"});\n",
       "</script>"
      ],
      "text/plain": [
       "alt.LayerChart(...)"
      ]
     },
     "execution_count": 5,
     "metadata": {},
     "output_type": "execute_result"
    }
   ],
   "source": [
    "\n",
    "band1 = alt.Chart(df).mark_area(opacity = 0.5,color='green').encode(\n",
    "    x='mu',\n",
    "    y='exp_1',\n",
    "    y2='exp_3'\n",
    ")\n",
    "\n",
    "band2 = alt.Chart(df).mark_area(opacity = 0.5,color='yellow').encode(\n",
    "    x='mu',\n",
    "    y='exp_0',\n",
    "    y2='exp_4'\n",
    ")\n",
    "\n",
    "line1 = alt.Chart(df).mark_line(color = 'black').encode(\n",
    "    x='mu',\n",
    "    y='obs'\n",
    ")\n",
    "\n",
    "line2 = alt.Chart(df).mark_line(color = 'black', strokeDash=[5,5]).encode(\n",
    "    x='mu',\n",
    "    y='exp_2'\n",
    ")\n",
    "\n",
    "nearest = alt.selection_single(\n",
    "    nearest=True, on='mouseover',fields=['mu'], empty='none'\n",
    ")\n",
    "\n",
    "\n",
    "point = alt.Chart(df).mark_point(color = 'black').encode(\n",
    "    x='mu',\n",
    "    y='obs',\n",
    "    opacity=alt.condition(nearest, alt.value(1), alt.value(0))\n",
    ").add_selection(\n",
    "    nearest\n",
    ")\n",
    "\n",
    "text = line1.mark_text(align='left', dx=5, dy=-5).encode(\n",
    "    text=alt.condition(nearest, 'obs', alt.value(' '))\n",
    ")\n",
    "\n",
    "\n",
    "band2 + band1 + line1 + line2 + point + text"
   ]
  },
  {
   "cell_type": "code",
   "execution_count": null,
   "metadata": {},
   "outputs": [],
   "source": []
  }
 ],
 "metadata": {
  "kernelspec": {
   "display_name": "Python 3",
   "language": "python",
   "name": "python3"
  },
  "language_info": {
   "codemirror_mode": {
    "name": "ipython",
    "version": 3
   },
   "file_extension": ".py",
   "mimetype": "text/x-python",
   "name": "python",
   "nbconvert_exporter": "python",
   "pygments_lexer": "ipython3",
   "version": "3.6.6"
  }
 },
 "nbformat": 4,
 "nbformat_minor": 2
}
