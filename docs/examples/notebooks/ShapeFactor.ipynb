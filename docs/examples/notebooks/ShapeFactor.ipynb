{
 "cells": [
  {
   "cell_type": "markdown",
   "metadata": {},
   "source": [
    "# ShapeFactor"
   ]
  },
  {
   "cell_type": "code",
   "execution_count": null,
   "metadata": {},
   "outputs": [],
   "source": [
    "%pylab inline"
   ]
  },
  {
   "cell_type": "code",
   "execution_count": null,
   "metadata": {},
   "outputs": [],
   "source": [
    "import logging\n",
    "import json\n",
    "\n",
    "import pyhf\n",
    "from pyhf import Model\n",
    "\n",
    "logging.basicConfig(level=logging.INFO)"
   ]
  },
  {
   "cell_type": "code",
   "execution_count": null,
   "metadata": {},
   "outputs": [],
   "source": [
    "def prep_data(sourcedata):\n",
    "    spec = {\n",
    "        'channels': [\n",
    "            {\n",
    "                'name': 'signal',\n",
    "                'samples': [\n",
    "                    {\n",
    "                        'name': 'signal',\n",
    "                        'data': sourcedata['signal']['bindata']['sig'],\n",
    "                        'modifiers': [\n",
    "                            {'name': 'mu', 'type': 'normfactor', 'data': None}\n",
    "                        ],\n",
    "                    },\n",
    "                    {\n",
    "                        'name': 'bkg1',\n",
    "                        'data': sourcedata['signal']['bindata']['bkg1'],\n",
    "                        'modifiers': [\n",
    "                            {\n",
    "                                'name': 'coupled_shapefactor',\n",
    "                                'type': 'shapefactor',\n",
    "                                'data': None,\n",
    "                            }\n",
    "                        ],\n",
    "                    },\n",
    "                ],\n",
    "            },\n",
    "            {\n",
    "                'name': 'control',\n",
    "                'samples': [\n",
    "                    {\n",
    "                        'name': 'background',\n",
    "                        'data': sourcedata['control']['bindata']['bkg1'],\n",
    "                        'modifiers': [\n",
    "                            {\n",
    "                                'name': 'coupled_shapefactor',\n",
    "                                'type': 'shapefactor',\n",
    "                                'data': None,\n",
    "                            }\n",
    "                        ],\n",
    "                    }\n",
    "                ],\n",
    "            },\n",
    "        ]\n",
    "    }\n",
    "    pdf = Model(spec)\n",
    "    data = []\n",
    "    for c in pdf.spec['channels']:\n",
    "        data += sourcedata[c['name']]['bindata']['data']\n",
    "    data = data + pdf.config.auxdata\n",
    "    return data, pdf"
   ]
  },
  {
   "cell_type": "code",
   "execution_count": null,
   "metadata": {},
   "outputs": [],
   "source": [
    "source = {\n",
    "    \"channels\": {\n",
    "        \"signal\": {\n",
    "            \"binning\": [2, -0.5, 1.5],\n",
    "            \"bindata\": {\n",
    "                \"data\": [220.0, 230.0],\n",
    "                \"bkg1\": [100.0, 70.0],\n",
    "                \"sig\": [20.0, 20.0],\n",
    "            },\n",
    "        },\n",
    "        \"control\": {\n",
    "            \"binning\": [2, -0.5, 1.5],\n",
    "            \"bindata\": {\"data\": [200.0, 300.0], \"bkg1\": [100.0, 100.0]},\n",
    "        },\n",
    "    }\n",
    "}\n",
    "\n",
    "data, pdf = prep_data(source['channels'])\n",
    "print(f'data: {data}')\n",
    "\n",
    "init_pars = pdf.config.suggested_init()\n",
    "print('expected data: {}'.format(pdf.expected_data(init_pars)))\n",
    "\n",
    "par_bounds = pdf.config.suggested_bounds()"
   ]
  },
  {
   "cell_type": "code",
   "execution_count": null,
   "metadata": {},
   "outputs": [],
   "source": [
    "print(f'initialization parameters: {pdf.config.suggested_init()}')\n",
    "\n",
    "unconpars = pyhf.infer.mle.fit(data, pdf)\n",
    "print(f'parameters post unconstrained fit: {unconpars}')"
   ]
  },
  {
   "cell_type": "code",
   "execution_count": null,
   "metadata": {},
   "outputs": [],
   "source": [
    "def plot_results(testmus, cls_obs, cls_exp, poi_tests, test_size=0.05):\n",
    "    plt.plot(poi_tests, cls_obs, c='k')\n",
    "    for i, c in zip(range(5), ['grey', 'grey', 'grey', 'grey', 'grey']):\n",
    "        plt.plot(poi_tests, cls_exp[i], c=c)\n",
    "    plt.plot(testmus, [test_size] * len(testmus), c='r')\n",
    "    plt.ylim(0, 1)\n",
    "\n",
    "\n",
    "def invert_interval(test_mus, cls_obs, cls_exp, test_size=0.05):\n",
    "    crossing_test_stats = {'exp': [], 'obs': None}\n",
    "    for cls_exp_sigma in cls_exp:\n",
    "        crossing_test_stats['exp'].append(\n",
    "            np.interp(\n",
    "                test_size, list(reversed(cls_exp_sigma)), list(reversed(test_mus))\n",
    "            )\n",
    "        )\n",
    "    crossing_test_stats['obs'] = np.interp(\n",
    "        test_size, list(reversed(cls_obs)), list(reversed(test_mus))\n",
    "    )\n",
    "    return crossing_test_stats\n",
    "\n",
    "\n",
    "poi_tests = np.linspace(0, 5, 61)\n",
    "tests = [\n",
    "    pyhf.infer.hypotest(\n",
    "        poi_test, data, pdf, init_pars, par_bounds, return_expected_set=True\n",
    "    )\n",
    "    for poi_test in poi_tests\n",
    "]\n",
    "cls_obs = np.array([test[0] for test in tests]).flatten()\n",
    "cls_exp = [np.array([test[1][i] for test in tests]).flatten() for i in range(5)]\n",
    "\n",
    "print('\\n')\n",
    "plot_results(poi_tests, cls_obs, cls_exp, poi_tests)\n",
    "invert_interval(poi_tests, cls_obs, cls_exp)"
   ]
  }
 ],
 "metadata": {
  "kernelspec": {
   "display_name": "Python 3",
   "language": "python",
   "name": "python3"
  },
  "language_info": {
   "codemirror_mode": {
    "name": "ipython",
    "version": 3
   },
   "file_extension": ".py",
   "mimetype": "text/x-python",
   "name": "python",
   "nbconvert_exporter": "python",
   "pygments_lexer": "ipython3",
   "version": "3.7.5"
  }
 },
 "nbformat": 4,
 "nbformat_minor": 4
}
