{
 "cells": [
  {
   "cell_type": "markdown",
   "metadata": {},
   "source": [
    "# Empirical Test Statistics\n",
    "\n",
    "In this notebook we will compute test statistics empirically from pseudo-experiment and establish that they behave\n",
    "as assumed in the asymptotic approximation."
   ]
  },
  {
   "cell_type": "code",
   "execution_count": null,
   "metadata": {},
   "outputs": [],
   "source": [
    "import numpy as np\n",
    "import matplotlib.pyplot as plt\n",
    "import pyhf\n",
    "\n",
    "np.random.seed(0)\n",
    "plt.rcParams.update({\"font.size\": 14})"
   ]
  },
  {
   "cell_type": "markdown",
   "metadata": {},
   "source": [
    "First, we define the statistical model we will study.\n",
    "\n",
    "* the signal expected event rate is 10 events\n",
    "* the background expected event rate is 100 events\n",
    "* a 10% uncertainty is assigned to the background\n",
    "\n",
    "The expected event rates are chosen to lie comfortably in the asymptotic regime."
   ]
  },
  {
   "cell_type": "code",
   "execution_count": null,
   "metadata": {},
   "outputs": [],
   "source": [
    "model = pyhf.simplemodels.hepdata_like(\n",
    "    signal_data=[10.0], bkg_data=[100.0], bkg_uncerts=[10.0]\n",
    ")"
   ]
  },
  {
   "cell_type": "markdown",
   "metadata": {},
   "source": [
    "The test statistics based on the profile likelihood described in [arXiv:1007.1727](https://arxiv.org/abs/1007.1727) cover scanarios for both\n",
    "\n",
    "* POI allowed to float to negative values (unbounded; $\\mu \\in [-10, 10]$)\n",
    "* POI constrained to non-negative values (bounded; $\\mu \\in [0,10]$)\n",
    "\n",
    "For consistency, test statistics ($t_\\mu, q_\\mu$) associated with bounded POIs are usually denoted with a tilde ($\\tilde{t}_\\mu, \\tilde{q}_\\mu$).\n",
    "\n",
    "We set up the bounds for the fit as follows"
   ]
  },
  {
   "cell_type": "code",
   "execution_count": null,
   "metadata": {},
   "outputs": [],
   "source": [
    "unbounded_bounds = model.config.suggested_bounds()\n",
    "unbounded_bounds[model.config.poi_index] = (-10, 10)\n",
    "\n",
    "bounded_bounds = model.config.suggested_bounds()"
   ]
  },
  {
   "cell_type": "markdown",
   "metadata": {},
   "source": [
    "Next we draw some synthetic datasets (also referrerd to as \"toys\" or pseudo-experiments). We will \"throw\" 300 toys:"
   ]
  },
  {
   "cell_type": "code",
   "execution_count": null,
   "metadata": {},
   "outputs": [],
   "source": [
    "true_poi = 1.0\n",
    "n_toys = 300\n",
    "toys = model.make_pdf(pyhf.tensorlib.astensor([true_poi, 1.0])).sample((n_toys,))"
   ]
  },
  {
   "cell_type": "markdown",
   "metadata": {},
   "source": [
    "In the asymptotic treatment the test statistics are described as a function of the data's best-fit POI value $\\hat\\mu$. \n",
    "\n",
    "So let's run some fits so we can plots the empirical test statistics against $\\hat\\mu$ to observed the emergence of the asymptotic behavior."
   ]
  },
  {
   "cell_type": "code",
   "execution_count": null,
   "metadata": {},
   "outputs": [],
   "source": [
    "pars = np.asarray(\n",
    "    [pyhf.infer.mle.fit(toy, model, par_bounds=unbounded_bounds) for toy in toys]\n",
    ")"
   ]
  },
  {
   "cell_type": "markdown",
   "metadata": {},
   "source": [
    "We can now calculate all four test statistics described in `arXiv:1007.1727`"
   ]
  },
  {
   "cell_type": "code",
   "execution_count": null,
   "metadata": {},
   "outputs": [],
   "source": [
    "test_poi = 1.0\n",
    "suggested_init_pars = model.config.suggested_init()\n",
    "suggested_fixed_pars = model.config.suggested_fixed()\n",
    "tmu = np.asarray(\n",
    "    [\n",
    "        pyhf.infer.test_statistics.tmu(\n",
    "            test_poi,\n",
    "            toy,\n",
    "            model,\n",
    "            init_pars=suggested_init_pars,\n",
    "            par_bounds=unbounded_bounds,\n",
    "            fixed_params=suggested_fixed_pars,\n",
    "        )\n",
    "        for toy in toys\n",
    "    ]\n",
    ")"
   ]
  },
  {
   "cell_type": "code",
   "execution_count": null,
   "metadata": {},
   "outputs": [],
   "source": [
    "tmu_tilde = np.asarray(\n",
    "    [\n",
    "        pyhf.infer.test_statistics.tmu_tilde(\n",
    "            test_poi,\n",
    "            toy,\n",
    "            model,\n",
    "            init_pars=suggested_init_pars,\n",
    "            par_bounds=bounded_bounds,\n",
    "            fixed_params=suggested_fixed_pars,\n",
    "        )\n",
    "        for toy in toys\n",
    "    ]\n",
    ")"
   ]
  },
  {
   "cell_type": "code",
   "execution_count": null,
   "metadata": {},
   "outputs": [],
   "source": [
    "qmu = np.asarray(\n",
    "    [\n",
    "        pyhf.infer.test_statistics.qmu(\n",
    "            test_poi,\n",
    "            toy,\n",
    "            model,\n",
    "            init_pars=suggested_init_pars,\n",
    "            par_bounds=unbounded_bounds,\n",
    "            fixed_params=suggested_fixed_pars,\n",
    "        )\n",
    "        for toy in toys\n",
    "    ]\n",
    ")"
   ]
  },
  {
   "cell_type": "code",
   "execution_count": null,
   "metadata": {},
   "outputs": [],
   "source": [
    "qmu_tilde = np.asarray(\n",
    "    [\n",
    "        pyhf.infer.test_statistics.qmu_tilde(\n",
    "            test_poi,\n",
    "            toy,\n",
    "            model,\n",
    "            init_pars=suggested_init_pars,\n",
    "            par_bounds=bounded_bounds,\n",
    "            fixed_params=suggested_fixed_pars,\n",
    "        )\n",
    "        for toy in toys\n",
    "    ]\n",
    ")"
   ]
  },
  {
   "cell_type": "markdown",
   "metadata": {},
   "source": [
    "Let's plot all the test statistics we have computed"
   ]
  },
  {
   "cell_type": "code",
   "execution_count": null,
   "metadata": {},
   "outputs": [],
   "source": [
    "muhat = pars[:, model.config.poi_index]\n",
    "muhat_sigma = np.std(muhat)"
   ]
  },
  {
   "cell_type": "markdown",
   "metadata": {},
   "source": [
    "We can check the asymptotic assumption that $\\hat{\\mu}$ is distributed normally around it's true value $\\mu' = 1$"
   ]
  },
  {
   "cell_type": "code",
   "execution_count": null,
   "metadata": {},
   "outputs": [],
   "source": [
    "fig, ax = plt.subplots()\n",
    "fig.set_size_inches(7, 5)\n",
    "\n",
    "ax.set_xlabel(r\"$\\hat{\\mu}$\")\n",
    "ax.set_ylabel(\"Density\")\n",
    "ax.set_ylim(top=0.5)\n",
    "\n",
    "ax.hist(muhat, bins=np.linspace(-4, 5, 31), density=True)\n",
    "ax.axvline(true_poi, label=\"true poi\", color=\"black\", linestyle=\"dashed\")\n",
    "ax.axvline(np.mean(muhat), label=\"empirical mean\", color=\"red\", linestyle=\"dashed\")\n",
    "ax.legend();"
   ]
  },
  {
   "cell_type": "markdown",
   "metadata": {},
   "source": [
    "Here we define the asymptotic profile likelihood test statistics:\n",
    "$$t_\\mu = \\frac{(\\mu-\\hat\\mu)^2}{\\sigma^2}$$\n",
    "\n",
    "$$\\tilde{t}_\\mu =\n",
    "\\begin{cases}\n",
    "t_\\mu,\\;\\text{$\\hat{\\mu}>0$}\\\\\n",
    "t_\\mu - t_0,\\; \\text{else}\n",
    "\\end{cases}\n",
    "$$\n",
    "\n",
    "\n",
    "\n",
    "$$q_\\mu =\n",
    "\\begin{cases}\n",
    "t_\\mu,\\;\\text{$\\hat{\\mu}<\\mu$}\\\\\n",
    "0,\\; \\text{else}\n",
    "\\end{cases}\n",
    "$$\n",
    "\n",
    "$$\\tilde{q}_\\mu =\n",
    "\\begin{cases}\n",
    "\\tilde{t}_\\mu,\\;\\text{$\\hat{\\mu}<\\mu$}\\\\\n",
    "0,\\; \\text{else}\n",
    "\\end{cases}\n",
    "$$"
   ]
  },
  {
   "cell_type": "code",
   "execution_count": null,
   "metadata": {},
   "outputs": [],
   "source": [
    "def tmu_asymp(mutest, muhat, sigma):\n",
    "    return (mutest - muhat) ** 2 / sigma ** 2\n",
    "\n",
    "\n",
    "def tmu_tilde_asymp(mutest, muhat, sigma):\n",
    "    a = tmu_asymp(mutest, muhat, sigma)\n",
    "    b = tmu_asymp(mutest, muhat, sigma) - tmu_asymp(0.0, muhat, sigma)\n",
    "    return np.where(muhat > 0, a, b)\n",
    "\n",
    "\n",
    "def qmu_asymp(mutest, muhat, sigma):\n",
    "    return np.where(\n",
    "        muhat < mutest, tmu_asymp(mutest, muhat, sigma), np.zeros_like(muhat)\n",
    "    )\n",
    "\n",
    "\n",
    "def qmu_tilde_asymp(mutest, muhat, sigma):\n",
    "    return np.where(\n",
    "        muhat < mutest, tmu_tilde_asymp(mutest, muhat, sigma), np.zeros_like(muhat)\n",
    "    )"
   ]
  },
  {
   "cell_type": "markdown",
   "metadata": {},
   "source": [
    "And now we can compare them to the empirical values:"
   ]
  },
  {
   "cell_type": "code",
   "execution_count": null,
   "metadata": {},
   "outputs": [],
   "source": [
    "muhat_asymp = np.linspace(-3, 5)\n",
    "fig, axarr = plt.subplots(2, 2)\n",
    "fig.set_size_inches(14, 10)\n",
    "\n",
    "labels = [r\"$t_{\\mu}$\", \"$\\\\tilde{t}_{\\\\mu}$\", r\"$q_{\\mu}$\", \"$\\\\tilde{q}_{\\\\mu}$\"]\n",
    "data = [\n",
    "    (tmu, tmu_asymp),\n",
    "    (tmu_tilde, tmu_tilde_asymp),\n",
    "    (qmu, qmu_asymp),\n",
    "    (qmu_tilde, qmu_tilde_asymp),\n",
    "]\n",
    "\n",
    "for ax, (label, d) in zip(axarr.ravel(), zip(labels, data)):\n",
    "    empirical, asymp_func = d\n",
    "    ax.scatter(muhat, empirical, alpha=0.2, label=label)\n",
    "    ax.plot(\n",
    "        muhat_asymp,\n",
    "        asymp_func(1.0, muhat_asymp, muhat_sigma),\n",
    "        label=f\"{label} asymptotic\",\n",
    "        c=\"r\",\n",
    "    )\n",
    "    ax.set_xlabel(r\"$\\hat{\\mu}$\")\n",
    "    ax.set_ylabel(f\"{label}\")\n",
    "    ax.legend(loc=\"best\")"
   ]
  }
 ],
 "metadata": {
  "kernelspec": {
   "display_name": "Python 3",
   "language": "python",
   "name": "python3"
  },
  "language_info": {
   "codemirror_mode": {
    "name": "ipython",
    "version": 3
   },
   "file_extension": ".py",
   "mimetype": "text/x-python",
   "name": "python",
   "nbconvert_exporter": "python",
   "pygments_lexer": "ipython3",
   "version": "3.7.5"
  }
 },
 "nbformat": 4,
 "nbformat_minor": 4
}
