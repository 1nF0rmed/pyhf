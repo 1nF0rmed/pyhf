{
 "cells": [
  {
   "cell_type": "markdown",
   "metadata": {},
   "source": [
    "# Hello World, `pyhf` style"
   ]
  },
  {
   "cell_type": "markdown",
   "metadata": {},
   "source": [
    "**Two bin counting experiment with a background uncertainty**"
   ]
  },
  {
   "cell_type": "code",
   "execution_count": null,
   "metadata": {},
   "outputs": [],
   "source": [
    "import pyhf"
   ]
  },
  {
   "cell_type": "markdown",
   "metadata": {},
   "source": [
    "**Returning the observed and expected** $\\mathrm{CL}_{s}$"
   ]
  },
  {
   "cell_type": "code",
   "execution_count": null,
   "metadata": {},
   "outputs": [],
   "source": [
    "model = pyhf.simplemodels.hepdata_like(\n",
    "    signal_data=[12.0, 11.0], bkg_data=[50.0, 52.0], bkg_uncerts=[3.0, 7.0]\n",
    ")\n",
    "data = [51, 48] + model.config.auxdata\n",
    "test_mu = 1.0\n",
    "CLs_obs, CLs_exp = pyhf.infer.hypotest(\n",
    "    test_mu, data, model, qtilde=True, return_expected=True\n",
    ")\n",
    "print(f\"Observed: {CLs_obs}, Expected: {CLs_exp}\")"
   ]
  },
  {
   "cell_type": "markdown",
   "metadata": {},
   "source": [
    "**Returning the observed** $\\mathrm{CL}_{s}$, $\\mathrm{CL}_{s+b}$, **and** $\\mathrm{CL}_{b}$"
   ]
  },
  {
   "cell_type": "code",
   "execution_count": null,
   "metadata": {},
   "outputs": [],
   "source": [
    "CLs_obs, p_values = pyhf.infer.hypotest(\n",
    "    test_mu, data, model, qtilde=True, return_tail_probs=True\n",
    ")\n",
    "print(f\"Observed CL_s: {CLs_obs}, CL_sb: {p_values[0]}, CL_b: {p_values[1]}\")"
   ]
  },
  {
   "cell_type": "markdown",
   "metadata": {},
   "source": [
    "A reminder that \n",
    "$$\n",
    "\\mathrm{CL}_{s} = \\frac{\\mathrm{CL}_{s+b}}{\\mathrm{CL}_{b}} = \\frac{p_{s+b}}{1-p_{b}}\n",
    "$$"
   ]
  },
  {
   "cell_type": "code",
   "execution_count": null,
   "metadata": {},
   "outputs": [],
   "source": [
    "assert CLs_obs == p_values[0] / p_values[1]"
   ]
  },
  {
   "cell_type": "markdown",
   "metadata": {},
   "source": [
    "**Returning the expected** $\\mathrm{CL}_{s}$ **band values**"
   ]
  },
  {
   "cell_type": "code",
   "execution_count": null,
   "metadata": {},
   "outputs": [],
   "source": [
    "import numpy as np"
   ]
  },
  {
   "cell_type": "code",
   "execution_count": null,
   "metadata": {},
   "outputs": [],
   "source": [
    "CLs_obs, CLs_exp_band = pyhf.infer.hypotest(\n",
    "    test_mu, data, model, qtilde=True, return_expected_set=True\n",
    ")\n",
    "print(f\"Observed CL_s: {CLs_obs}\\n\")\n",
    "for p_value, n_sigma in enumerate(np.arange(-2, 3)):\n",
    "    print(\n",
    "        \"Expected CL_s{}: {}\".format(\n",
    "            \"      \" if n_sigma == 0 else f\"({n_sigma} σ)\",\n",
    "            CLs_exp_band[p_value],\n",
    "        )\n",
    "    )"
   ]
  }
 ],
 "metadata": {
  "kernelspec": {
   "display_name": "Python 3",
   "language": "python",
   "name": "python3"
  },
  "language_info": {
   "codemirror_mode": {
    "name": "ipython",
    "version": 3
   },
   "file_extension": ".py",
   "mimetype": "text/x-python",
   "name": "python",
   "nbconvert_exporter": "python",
   "pygments_lexer": "ipython3",
   "version": "3.7.5"
  }
 },
 "nbformat": 4,
 "nbformat_minor": 4
}
